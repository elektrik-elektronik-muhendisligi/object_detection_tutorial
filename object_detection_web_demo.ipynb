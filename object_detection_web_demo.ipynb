{
  "nbformat": 4,
  "nbformat_minor": 0,
  "metadata": {
    "colab": {
      "name": "object_detection_api_web_demo.ipynb",
      "version": "0.3.2",
      "provenance": [],
      "collapsed_sections": [],
      "include_colab_link": true
    },
    "kernelspec": {
      "name": "python3",
      "display_name": "Python 3"
    },
    "accelerator": "GPU"
  },
  "cells": [
    {
      "cell_type": "markdown",
      "metadata": {
        "id": "view-in-github",
        "colab_type": "text"
      },
      "source": [
        "<a href=\"https://colab.research.google.com/github/lvisdd/object_detection_tutorial/blob/master/object_detection_web_demo.ipynb\" target=\"_parent\"><img src=\"https://colab.research.google.com/assets/colab-badge.svg\" alt=\"Open In Colab\"/></a>"
      ]
    },
    {
      "cell_type": "code",
      "metadata": {
        "id": "k3kVhk3M15TC",
        "colab_type": "code",
        "colab": {}
      },
      "source": [
        "# restart (or reset) your virtual machine\n",
        "#!kill -9 -1"
      ],
      "execution_count": 0,
      "outputs": []
    },
    {
      "cell_type": "markdown",
      "metadata": {
        "id": "5vMoF2OaFTxi",
        "colab_type": "text"
      },
      "source": [
        "# [Tensorflow Object Detection API](https://github.com/tensorflow/models/tree/master/research/object_detection)"
      ]
    },
    {
      "cell_type": "code",
      "metadata": {
        "id": "cIucMKsaFXBY",
        "colab_type": "code",
        "outputId": "12ab2692-9074-4ab8-dab5-898fff60cb69",
        "colab": {
          "base_uri": "https://localhost:8080/",
          "height": 119
        }
      },
      "source": [
        "!git clone https://github.com/tensorflow/models.git"
      ],
      "execution_count": 2,
      "outputs": [
        {
          "output_type": "stream",
          "text": [
            "Cloning into 'models'...\n",
            "remote: Enumerating objects: 29816, done.\u001b[K\n",
            "remote: Total 29816 (delta 0), reused 0 (delta 0), pack-reused 29816\u001b[K\n",
            "Receiving objects: 100% (29816/29816), 510.20 MiB | 14.25 MiB/s, done.\n",
            "Resolving deltas: 100% (18611/18611), done.\n",
            "Checking out files: 100% (3058/3058), done.\n"
          ],
          "name": "stdout"
        }
      ]
    },
    {
      "cell_type": "markdown",
      "metadata": {
        "id": "zesR5I_qFbJg",
        "colab_type": "text"
      },
      "source": [
        "# COCO API installation"
      ]
    },
    {
      "cell_type": "code",
      "metadata": {
        "id": "utK3zxaxwgOU",
        "colab_type": "code",
        "colab": {}
      },
      "source": [
        "!pip install -q pycocotools"
      ],
      "execution_count": 0,
      "outputs": []
    },
    {
      "cell_type": "code",
      "metadata": {
        "id": "D44-QM5cFaqX",
        "colab_type": "code",
        "colab": {}
      },
      "source": [
        "#!git clone https://github.com/cocodataset/cocoapi.git\n",
        "#%cd cocoapi/PythonAPI\n",
        "#!make\n",
        "#!cp -r pycocotools /content/models/research/"
      ],
      "execution_count": 0,
      "outputs": []
    },
    {
      "cell_type": "markdown",
      "metadata": {
        "id": "ZNtknm_fFhcP",
        "colab_type": "text"
      },
      "source": [
        "# Protobuf Compilation"
      ]
    },
    {
      "cell_type": "code",
      "metadata": {
        "id": "_PwXOE1wFk9I",
        "colab_type": "code",
        "outputId": "6c67eb6e-dd9d-49bd-90ed-ca8b585d080c",
        "colab": {
          "base_uri": "https://localhost:8080/",
          "height": 34
        }
      },
      "source": [
        "%cd /content/models/research/\n",
        "!protoc object_detection/protos/*.proto --python_out=."
      ],
      "execution_count": 5,
      "outputs": [
        {
          "output_type": "stream",
          "text": [
            "/content/models/research\n"
          ],
          "name": "stdout"
        }
      ]
    },
    {
      "cell_type": "markdown",
      "metadata": {
        "id": "iNPcWjYMFq_n",
        "colab_type": "text"
      },
      "source": [
        "# Add Libraries to PYTHONPATH"
      ]
    },
    {
      "cell_type": "code",
      "metadata": {
        "id": "gc8H-ScuFpv5",
        "colab_type": "code",
        "outputId": "09c783e3-24b3-4278-a51e-c2a9d169b976",
        "colab": {
          "base_uri": "https://localhost:8080/",
          "height": 714
        }
      },
      "source": [
        "%cd /content/models/research/\n",
        "%env PYTHONPATH=/env/python:/content/models/research:/content/models/research/slim:/content/models/research/object_detection\n",
        "%env"
      ],
      "execution_count": 6,
      "outputs": [
        {
          "output_type": "stream",
          "text": [
            "/content/models/research\n",
            "env: PYTHONPATH=/env/python:/content/models/research:/content/models/research/slim:/content/models/research/object_detection\n"
          ],
          "name": "stdout"
        },
        {
          "output_type": "execute_result",
          "data": {
            "text/plain": [
              "{'CLICOLOR': '1',\n",
              " 'CLOUDSDK_CONFIG': '/content/.config',\n",
              " 'COLAB_GPU': '1',\n",
              " 'CUDA_PKG_VERSION': '10-0=10.0.130-1',\n",
              " 'CUDA_VERSION': '10.0.130',\n",
              " 'CUDNN_VERSION': '7.6.2.24',\n",
              " 'DATALAB_SETTINGS_OVERRIDES': '{\"kernelManagerProxyPort\":6000,\"kernelManagerProxyHost\":\"172.28.0.3\",\"jupyterArgs\":[\"--ip=\\\\\"172.28.0.2\\\\\"\"]}',\n",
              " 'DEBIAN_FRONTEND': 'noninteractive',\n",
              " 'ENV': '/root/.bashrc',\n",
              " 'GCS_READ_CACHE_BLOCK_SIZE_MB': '16',\n",
              " 'GIT_PAGER': 'cat',\n",
              " 'GLIBCPP_FORCE_NEW': '1',\n",
              " 'GLIBCXX_FORCE_NEW': '1',\n",
              " 'HOME': '/root',\n",
              " 'HOSTNAME': '66ca6202c472',\n",
              " 'JPY_PARENT_PID': '21',\n",
              " 'LANG': 'en_US.UTF-8',\n",
              " 'LAST_FORCED_REBUILD': '20190507',\n",
              " 'LD_LIBRARY_PATH': '/usr/lib64-nvidia',\n",
              " 'LD_PRELOAD': '/usr/lib/x86_64-linux-gnu/libtcmalloc.so.4',\n",
              " 'LIBRARY_PATH': '/usr/local/cuda/lib64/stubs',\n",
              " 'MPLBACKEND': 'module://ipykernel.pylab.backend_inline',\n",
              " 'NCCL_VERSION': '2.4.7',\n",
              " 'NO_GCE_CHECK': 'True',\n",
              " 'NVIDIA_DRIVER_CAPABILITIES': 'compute,utility',\n",
              " 'NVIDIA_REQUIRE_CUDA': 'cuda>=10.0 brand=tesla,driver>=384,driver<385 brand=tesla,driver>=410,driver<411',\n",
              " 'NVIDIA_VISIBLE_DEVICES': 'all',\n",
              " 'OLDPWD': '/',\n",
              " 'PAGER': 'cat',\n",
              " 'PATH': '/usr/local/nvidia/bin:/usr/local/cuda/bin:/usr/local/sbin:/usr/local/bin:/usr/sbin:/usr/bin:/sbin:/bin:/tools/node/bin:/tools/google-cloud-sdk/bin:/opt/bin',\n",
              " 'PWD': '/',\n",
              " 'PYTHONPATH': '/env/python:/content/models/research:/content/models/research/slim:/content/models/research/object_detection',\n",
              " 'PYTHONWARNINGS': 'ignore:::pip._internal.cli.base_command',\n",
              " 'SHELL': '/bin/bash',\n",
              " 'SHLVL': '1',\n",
              " 'TERM': 'xterm-color',\n",
              " 'TF_FORCE_GPU_ALLOW_GROWTH': 'true',\n",
              " '_': '/tools/node/bin/node',\n",
              " '__EGL_VENDOR_LIBRARY_DIRS': '/usr/lib64-nvidia:/usr/share/glvnd/egl_vendor.d/'}"
            ]
          },
          "metadata": {
            "tags": []
          },
          "execution_count": 6
        }
      ]
    },
    {
      "cell_type": "markdown",
      "metadata": {
        "id": "4lFy4jC7FwYp",
        "colab_type": "text"
      },
      "source": [
        "# Testing the Installation"
      ]
    },
    {
      "cell_type": "code",
      "metadata": {
        "id": "WoZSvZzpFxFo",
        "colab_type": "code",
        "outputId": "3a3c7e83-788a-4654-fe95-d50acdc923ec",
        "colab": {
          "base_uri": "https://localhost:8080/",
          "height": 867
        }
      },
      "source": [
        "!python object_detection/builders/model_builder_test.py"
      ],
      "execution_count": 7,
      "outputs": [
        {
          "output_type": "stream",
          "text": [
            "WARNING: Logging before flag parsing goes to stderr.\n",
            "W0819 10:09:46.899196 139786158557056 lazy_loader.py:50] \n",
            "The TensorFlow contrib module will not be included in TensorFlow 2.0.\n",
            "For more information, please see:\n",
            "  * https://github.com/tensorflow/community/blob/master/rfcs/20180907-contrib-sunset.md\n",
            "  * https://github.com/tensorflow/addons\n",
            "  * https://github.com/tensorflow/io (for I/O related ops)\n",
            "If you depend on functionality not listed there, please file an issue.\n",
            "\n",
            "W0819 10:09:47.265383 139786158557056 deprecation_wrapper.py:119] From /content/models/research/slim/nets/inception_resnet_v2.py:373: The name tf.GraphKeys is deprecated. Please use tf.compat.v1.GraphKeys instead.\n",
            "\n",
            "W0819 10:09:47.319862 139786158557056 deprecation_wrapper.py:119] From /content/models/research/slim/nets/mobilenet/mobilenet.py:397: The name tf.nn.avg_pool is deprecated. Please use tf.nn.avg_pool2d instead.\n",
            "\n",
            "Running tests under Python 3.6.8: /usr/bin/python3\n",
            "[ RUN      ] ModelBuilderTest.test_create_faster_rcnn_model_from_config_with_example_miner\n",
            "[       OK ] ModelBuilderTest.test_create_faster_rcnn_model_from_config_with_example_miner\n",
            "[ RUN      ] ModelBuilderTest.test_create_faster_rcnn_models_from_config_faster_rcnn_with_matmul\n",
            "[       OK ] ModelBuilderTest.test_create_faster_rcnn_models_from_config_faster_rcnn_with_matmul\n",
            "[ RUN      ] ModelBuilderTest.test_create_faster_rcnn_models_from_config_faster_rcnn_without_matmul\n",
            "[       OK ] ModelBuilderTest.test_create_faster_rcnn_models_from_config_faster_rcnn_without_matmul\n",
            "[ RUN      ] ModelBuilderTest.test_create_faster_rcnn_models_from_config_mask_rcnn_with_matmul\n",
            "[       OK ] ModelBuilderTest.test_create_faster_rcnn_models_from_config_mask_rcnn_with_matmul\n",
            "[ RUN      ] ModelBuilderTest.test_create_faster_rcnn_models_from_config_mask_rcnn_without_matmul\n",
            "[       OK ] ModelBuilderTest.test_create_faster_rcnn_models_from_config_mask_rcnn_without_matmul\n",
            "[ RUN      ] ModelBuilderTest.test_create_rfcn_model_from_config\n",
            "[       OK ] ModelBuilderTest.test_create_rfcn_model_from_config\n",
            "[ RUN      ] ModelBuilderTest.test_create_ssd_fpn_model_from_config\n",
            "[       OK ] ModelBuilderTest.test_create_ssd_fpn_model_from_config\n",
            "[ RUN      ] ModelBuilderTest.test_create_ssd_models_from_config\n",
            "[       OK ] ModelBuilderTest.test_create_ssd_models_from_config\n",
            "[ RUN      ] ModelBuilderTest.test_invalid_faster_rcnn_batchnorm_update\n",
            "[       OK ] ModelBuilderTest.test_invalid_faster_rcnn_batchnorm_update\n",
            "[ RUN      ] ModelBuilderTest.test_invalid_first_stage_nms_iou_threshold\n",
            "[       OK ] ModelBuilderTest.test_invalid_first_stage_nms_iou_threshold\n",
            "[ RUN      ] ModelBuilderTest.test_invalid_model_config_proto\n",
            "[       OK ] ModelBuilderTest.test_invalid_model_config_proto\n",
            "[ RUN      ] ModelBuilderTest.test_invalid_second_stage_batch_size\n",
            "[       OK ] ModelBuilderTest.test_invalid_second_stage_batch_size\n",
            "[ RUN      ] ModelBuilderTest.test_session\n",
            "[  SKIPPED ] ModelBuilderTest.test_session\n",
            "[ RUN      ] ModelBuilderTest.test_unknown_faster_rcnn_feature_extractor\n",
            "[       OK ] ModelBuilderTest.test_unknown_faster_rcnn_feature_extractor\n",
            "[ RUN      ] ModelBuilderTest.test_unknown_meta_architecture\n",
            "[       OK ] ModelBuilderTest.test_unknown_meta_architecture\n",
            "[ RUN      ] ModelBuilderTest.test_unknown_ssd_feature_extractor\n",
            "[       OK ] ModelBuilderTest.test_unknown_ssd_feature_extractor\n",
            "----------------------------------------------------------------------\n",
            "Ran 16 tests in 0.168s\n",
            "\n",
            "OK (skipped=1)\n"
          ],
          "name": "stdout"
        }
      ]
    },
    {
      "cell_type": "code",
      "metadata": {
        "id": "d6eeEiH4HRoH",
        "colab_type": "code",
        "outputId": "af912113-7cf3-4257-ca23-97598072fed0",
        "colab": {
          "base_uri": "https://localhost:8080/",
          "height": 34
        }
      },
      "source": [
        "%cd /content/models/research/object_detection"
      ],
      "execution_count": 8,
      "outputs": [
        {
          "output_type": "stream",
          "text": [
            "/content/models/research/object_detection\n"
          ],
          "name": "stdout"
        }
      ]
    },
    {
      "cell_type": "markdown",
      "metadata": {
        "id": "JM67wLnfxDby",
        "colab_type": "text"
      },
      "source": [
        "## [TensorFlow Object Detection API demo](https://github.com/GoogleCloudPlatform/tensorflow-object-detection-example)"
      ]
    },
    {
      "cell_type": "markdown",
      "metadata": {
        "id": "zJl2kDSHxpE6",
        "colab_type": "text"
      },
      "source": [
        "## Install packages"
      ]
    },
    {
      "cell_type": "code",
      "metadata": {
        "id": "blBvMxKvxN0c",
        "colab_type": "code",
        "colab": {
          "base_uri": "https://localhost:8080/",
          "height": 1000
        },
        "outputId": "341fad8c-b9e6-4248-b617-4739f79111bc"
      },
      "source": [
        "!apt-get install -y protobuf-compiler python-pil python-lxml python-pip python-dev git"
      ],
      "execution_count": 9,
      "outputs": [
        {
          "output_type": "stream",
          "text": [
            "Reading package lists... Done\n",
            "Building dependency tree       \n",
            "Reading state information... Done\n",
            "python-dev is already the newest version (2.7.15~rc1-1).\n",
            "protobuf-compiler is already the newest version (3.0.0-9.1ubuntu1).\n",
            "git is already the newest version (1:2.17.1-1ubuntu0.4).\n",
            "The following package was automatically installed and is no longer required:\n",
            "  libnvidia-common-410\n",
            "Use 'apt autoremove' to remove it.\n",
            "The following additional packages will be installed:\n",
            "  libpython-all-dev python-all python-all-dev python-asn1crypto python-bs4\n",
            "  python-cffi-backend python-chardet python-crypto python-cryptography\n",
            "  python-dbus python-enum34 python-gi python-html5lib python-idna\n",
            "  python-ipaddress python-keyring python-keyrings.alt python-olefile\n",
            "  python-pip-whl python-pkg-resources python-secretstorage python-setuptools\n",
            "  python-six python-webencodings python-wheel python-xdg\n",
            "Suggested packages:\n",
            "  python-crypto-doc python-cryptography-doc python-cryptography-vectors\n",
            "  python-dbus-dbg python-dbus-doc python-enum34-doc python-gi-cairo\n",
            "  python-genshi gnome-keyring libkf5wallet-bin gir1.2-gnomekeyring-1.0\n",
            "  python-fs python-gdata python-keyczar python-lxml-dbg python-lxml-doc\n",
            "  python-pil-doc python-pil-dbg python-secretstorage-doc python-setuptools-doc\n",
            "The following NEW packages will be installed:\n",
            "  libpython-all-dev python-all python-all-dev python-asn1crypto python-bs4\n",
            "  python-cffi-backend python-chardet python-crypto python-cryptography\n",
            "  python-dbus python-enum34 python-gi python-html5lib python-idna\n",
            "  python-ipaddress python-keyring python-keyrings.alt python-lxml\n",
            "  python-olefile python-pil python-pip python-pip-whl python-pkg-resources\n",
            "  python-secretstorage python-setuptools python-six python-webencodings\n",
            "  python-wheel python-xdg\n",
            "0 upgraded, 29 newly installed, 0 to remove and 4 not upgraded.\n",
            "Need to get 5,054 kB of archives.\n",
            "After this operation, 17.6 MB of additional disk space will be used.\n",
            "Get:1 http://archive.ubuntu.com/ubuntu bionic/main amd64 libpython-all-dev amd64 2.7.15~rc1-1 [1,092 B]\n",
            "Get:2 http://archive.ubuntu.com/ubuntu bionic/main amd64 python-all amd64 2.7.15~rc1-1 [1,076 B]\n",
            "Get:3 http://archive.ubuntu.com/ubuntu bionic/main amd64 python-all-dev amd64 2.7.15~rc1-1 [1,100 B]\n",
            "Get:4 http://archive.ubuntu.com/ubuntu bionic/main amd64 python-asn1crypto all 0.24.0-1 [72.7 kB]\n",
            "Get:5 http://archive.ubuntu.com/ubuntu bionic/main amd64 python-bs4 all 4.6.0-1 [67.9 kB]\n",
            "Get:6 http://archive.ubuntu.com/ubuntu bionic/main amd64 python-cffi-backend amd64 1.11.5-1 [63.4 kB]\n",
            "Get:7 http://archive.ubuntu.com/ubuntu bionic/main amd64 python-pkg-resources all 39.0.1-2 [128 kB]\n",
            "Get:8 http://archive.ubuntu.com/ubuntu bionic/main amd64 python-chardet all 3.0.4-1 [80.3 kB]\n",
            "Get:9 http://archive.ubuntu.com/ubuntu bionic/main amd64 python-crypto amd64 2.6.1-8ubuntu2 [244 kB]\n",
            "Get:10 http://archive.ubuntu.com/ubuntu bionic/main amd64 python-enum34 all 1.1.6-2 [34.8 kB]\n",
            "Get:11 http://archive.ubuntu.com/ubuntu bionic/main amd64 python-idna all 2.6-1 [32.4 kB]\n",
            "Get:12 http://archive.ubuntu.com/ubuntu bionic/main amd64 python-ipaddress all 1.0.17-1 [18.2 kB]\n",
            "Get:13 http://archive.ubuntu.com/ubuntu bionic/main amd64 python-six all 1.11.0-2 [11.3 kB]\n",
            "Get:14 http://archive.ubuntu.com/ubuntu bionic-updates/main amd64 python-cryptography amd64 2.1.4-1ubuntu1.3 [221 kB]\n",
            "Get:15 http://archive.ubuntu.com/ubuntu bionic/main amd64 python-dbus amd64 1.2.6-1 [90.2 kB]\n",
            "Get:16 http://archive.ubuntu.com/ubuntu bionic-updates/main amd64 python-gi amd64 3.26.1-2ubuntu1 [197 kB]\n",
            "Get:17 http://archive.ubuntu.com/ubuntu bionic/main amd64 python-webencodings all 0.5-2 [10.3 kB]\n",
            "Get:18 http://archive.ubuntu.com/ubuntu bionic/main amd64 python-html5lib all 0.999999999-1 [83.6 kB]\n",
            "Get:19 http://archive.ubuntu.com/ubuntu bionic/main amd64 python-secretstorage all 2.3.1-2 [11.8 kB]\n",
            "Get:20 http://archive.ubuntu.com/ubuntu bionic/main amd64 python-keyring all 10.6.0-1 [30.6 kB]\n",
            "Get:21 http://archive.ubuntu.com/ubuntu bionic/main amd64 python-keyrings.alt all 3.0-1 [16.7 kB]\n",
            "Get:22 http://archive.ubuntu.com/ubuntu bionic-updates/main amd64 python-lxml amd64 4.2.1-1ubuntu0.1 [1,075 kB]\n",
            "Get:23 http://archive.ubuntu.com/ubuntu bionic/main amd64 python-olefile all 0.45.1-1 [33.2 kB]\n",
            "Get:24 http://archive.ubuntu.com/ubuntu bionic/main amd64 python-pil amd64 5.1.0-1 [328 kB]\n",
            "Get:25 http://archive.ubuntu.com/ubuntu bionic-updates/universe amd64 python-pip-whl all 9.0.1-2.3~ubuntu1.18.04.1 [1,653 kB]\n",
            "Get:26 http://archive.ubuntu.com/ubuntu bionic-updates/universe amd64 python-pip all 9.0.1-2.3~ubuntu1.18.04.1 [151 kB]\n",
            "Get:27 http://archive.ubuntu.com/ubuntu bionic/main amd64 python-setuptools all 39.0.1-2 [329 kB]\n",
            "Get:28 http://archive.ubuntu.com/ubuntu bionic/universe amd64 python-wheel all 0.30.0-0.2 [36.4 kB]\n",
            "Get:29 http://archive.ubuntu.com/ubuntu bionic/universe amd64 python-xdg all 0.25-4ubuntu1 [31.3 kB]\n",
            "Fetched 5,054 kB in 3s (1,450 kB/s)\n",
            "Selecting previously unselected package libpython-all-dev:amd64.\n",
            "(Reading database ... 131289 files and directories currently installed.)\n",
            "Preparing to unpack .../00-libpython-all-dev_2.7.15~rc1-1_amd64.deb ...\n",
            "Unpacking libpython-all-dev:amd64 (2.7.15~rc1-1) ...\n",
            "Selecting previously unselected package python-all.\n",
            "Preparing to unpack .../01-python-all_2.7.15~rc1-1_amd64.deb ...\n",
            "Unpacking python-all (2.7.15~rc1-1) ...\n",
            "Selecting previously unselected package python-all-dev.\n",
            "Preparing to unpack .../02-python-all-dev_2.7.15~rc1-1_amd64.deb ...\n",
            "Unpacking python-all-dev (2.7.15~rc1-1) ...\n",
            "Selecting previously unselected package python-asn1crypto.\n",
            "Preparing to unpack .../03-python-asn1crypto_0.24.0-1_all.deb ...\n",
            "Unpacking python-asn1crypto (0.24.0-1) ...\n",
            "Selecting previously unselected package python-bs4.\n",
            "Preparing to unpack .../04-python-bs4_4.6.0-1_all.deb ...\n",
            "Unpacking python-bs4 (4.6.0-1) ...\n",
            "Selecting previously unselected package python-cffi-backend.\n",
            "Preparing to unpack .../05-python-cffi-backend_1.11.5-1_amd64.deb ...\n",
            "Unpacking python-cffi-backend (1.11.5-1) ...\n",
            "Selecting previously unselected package python-pkg-resources.\n",
            "Preparing to unpack .../06-python-pkg-resources_39.0.1-2_all.deb ...\n",
            "Unpacking python-pkg-resources (39.0.1-2) ...\n",
            "Selecting previously unselected package python-chardet.\n",
            "Preparing to unpack .../07-python-chardet_3.0.4-1_all.deb ...\n",
            "Unpacking python-chardet (3.0.4-1) ...\n",
            "Selecting previously unselected package python-crypto.\n",
            "Preparing to unpack .../08-python-crypto_2.6.1-8ubuntu2_amd64.deb ...\n",
            "Unpacking python-crypto (2.6.1-8ubuntu2) ...\n",
            "Selecting previously unselected package python-enum34.\n",
            "Preparing to unpack .../09-python-enum34_1.1.6-2_all.deb ...\n",
            "Unpacking python-enum34 (1.1.6-2) ...\n",
            "Selecting previously unselected package python-idna.\n",
            "Preparing to unpack .../10-python-idna_2.6-1_all.deb ...\n",
            "Unpacking python-idna (2.6-1) ...\n",
            "Selecting previously unselected package python-ipaddress.\n",
            "Preparing to unpack .../11-python-ipaddress_1.0.17-1_all.deb ...\n",
            "Unpacking python-ipaddress (1.0.17-1) ...\n",
            "Selecting previously unselected package python-six.\n",
            "Preparing to unpack .../12-python-six_1.11.0-2_all.deb ...\n",
            "Unpacking python-six (1.11.0-2) ...\n",
            "Selecting previously unselected package python-cryptography.\n",
            "Preparing to unpack .../13-python-cryptography_2.1.4-1ubuntu1.3_amd64.deb ...\n",
            "Unpacking python-cryptography (2.1.4-1ubuntu1.3) ...\n",
            "Selecting previously unselected package python-dbus.\n",
            "Preparing to unpack .../14-python-dbus_1.2.6-1_amd64.deb ...\n",
            "Unpacking python-dbus (1.2.6-1) ...\n",
            "Selecting previously unselected package python-gi.\n",
            "Preparing to unpack .../15-python-gi_3.26.1-2ubuntu1_amd64.deb ...\n",
            "Unpacking python-gi (3.26.1-2ubuntu1) ...\n",
            "Selecting previously unselected package python-webencodings.\n",
            "Preparing to unpack .../16-python-webencodings_0.5-2_all.deb ...\n",
            "Unpacking python-webencodings (0.5-2) ...\n",
            "Selecting previously unselected package python-html5lib.\n",
            "Preparing to unpack .../17-python-html5lib_0.999999999-1_all.deb ...\n",
            "Unpacking python-html5lib (0.999999999-1) ...\n",
            "Selecting previously unselected package python-secretstorage.\n",
            "Preparing to unpack .../18-python-secretstorage_2.3.1-2_all.deb ...\n",
            "Unpacking python-secretstorage (2.3.1-2) ...\n",
            "Selecting previously unselected package python-keyring.\n",
            "Preparing to unpack .../19-python-keyring_10.6.0-1_all.deb ...\n",
            "Unpacking python-keyring (10.6.0-1) ...\n",
            "Selecting previously unselected package python-keyrings.alt.\n",
            "Preparing to unpack .../20-python-keyrings.alt_3.0-1_all.deb ...\n",
            "Unpacking python-keyrings.alt (3.0-1) ...\n",
            "Selecting previously unselected package python-lxml:amd64.\n",
            "Preparing to unpack .../21-python-lxml_4.2.1-1ubuntu0.1_amd64.deb ...\n",
            "Unpacking python-lxml:amd64 (4.2.1-1ubuntu0.1) ...\n",
            "Selecting previously unselected package python-olefile.\n",
            "Preparing to unpack .../22-python-olefile_0.45.1-1_all.deb ...\n",
            "Unpacking python-olefile (0.45.1-1) ...\n",
            "Selecting previously unselected package python-pil:amd64.\n",
            "Preparing to unpack .../23-python-pil_5.1.0-1_amd64.deb ...\n",
            "Unpacking python-pil:amd64 (5.1.0-1) ...\n",
            "Selecting previously unselected package python-pip-whl.\n",
            "Preparing to unpack .../24-python-pip-whl_9.0.1-2.3~ubuntu1.18.04.1_all.deb ...\n",
            "Unpacking python-pip-whl (9.0.1-2.3~ubuntu1.18.04.1) ...\n",
            "Selecting previously unselected package python-pip.\n",
            "Preparing to unpack .../25-python-pip_9.0.1-2.3~ubuntu1.18.04.1_all.deb ...\n",
            "Unpacking python-pip (9.0.1-2.3~ubuntu1.18.04.1) ...\n",
            "Selecting previously unselected package python-setuptools.\n",
            "Preparing to unpack .../26-python-setuptools_39.0.1-2_all.deb ...\n",
            "Unpacking python-setuptools (39.0.1-2) ...\n",
            "Selecting previously unselected package python-wheel.\n",
            "Preparing to unpack .../27-python-wheel_0.30.0-0.2_all.deb ...\n",
            "Unpacking python-wheel (0.30.0-0.2) ...\n",
            "Selecting previously unselected package python-xdg.\n",
            "Preparing to unpack .../28-python-xdg_0.25-4ubuntu1_all.deb ...\n",
            "Unpacking python-xdg (0.25-4ubuntu1) ...\n",
            "Setting up python-idna (2.6-1) ...\n",
            "Setting up python-pip-whl (9.0.1-2.3~ubuntu1.18.04.1) ...\n",
            "Setting up python-asn1crypto (0.24.0-1) ...\n",
            "Setting up python-crypto (2.6.1-8ubuntu2) ...\n",
            "Setting up python-wheel (0.30.0-0.2) ...\n",
            "Setting up libpython-all-dev:amd64 (2.7.15~rc1-1) ...\n",
            "Setting up python-pkg-resources (39.0.1-2) ...\n",
            "Setting up python-cffi-backend (1.11.5-1) ...\n",
            "Setting up python-gi (3.26.1-2ubuntu1) ...\n",
            "Setting up python-six (1.11.0-2) ...\n",
            "Setting up python-bs4 (4.6.0-1) ...\n",
            "Setting up python-enum34 (1.1.6-2) ...\n",
            "Setting up python-lxml:amd64 (4.2.1-1ubuntu0.1) ...\n",
            "Setting up python-olefile (0.45.1-1) ...\n",
            "Processing triggers for man-db (2.8.3-2ubuntu0.1) ...\n",
            "Setting up python-dbus (1.2.6-1) ...\n",
            "Setting up python-ipaddress (1.0.17-1) ...\n",
            "Setting up python-pip (9.0.1-2.3~ubuntu1.18.04.1) ...\n",
            "Setting up python-all (2.7.15~rc1-1) ...\n",
            "Setting up python-pil:amd64 (5.1.0-1) ...\n",
            "Setting up python-webencodings (0.5-2) ...\n",
            "Setting up python-xdg (0.25-4ubuntu1) ...\n",
            "Setting up python-setuptools (39.0.1-2) ...\n",
            "Setting up python-chardet (3.0.4-1) ...\n",
            "Setting up python-keyrings.alt (3.0-1) ...\n",
            "Setting up python-all-dev (2.7.15~rc1-1) ...\n",
            "Setting up python-cryptography (2.1.4-1ubuntu1.3) ...\n",
            "Setting up python-html5lib (0.999999999-1) ...\n",
            "Setting up python-secretstorage (2.3.1-2) ...\n",
            "Setting up python-keyring (10.6.0-1) ...\n"
          ],
          "name": "stdout"
        }
      ]
    },
    {
      "cell_type": "code",
      "metadata": {
        "id": "uk7n9NHwxvBB",
        "colab_type": "code",
        "colab": {
          "base_uri": "https://localhost:8080/",
          "height": 238
        },
        "outputId": "be8ea57f-de60-4aa4-e664-622151fd3ea0"
      },
      "source": [
        "!pip install Flask WTForms Flask_WTF Werkzeug"
      ],
      "execution_count": 10,
      "outputs": [
        {
          "output_type": "stream",
          "text": [
            "Requirement already satisfied: Flask in /usr/local/lib/python3.6/dist-packages (1.1.1)\n",
            "Collecting WTForms\n",
            "\u001b[?25l  Downloading https://files.pythonhosted.org/packages/9f/c8/dac5dce9908df1d9d48ec0e26e2a250839fa36ea2c602cc4f85ccfeb5c65/WTForms-2.2.1-py2.py3-none-any.whl (166kB)\n",
            "\u001b[K     |████████████████████████████████| 174kB 2.8MB/s \n",
            "\u001b[?25hCollecting Flask_WTF\n",
            "  Downloading https://files.pythonhosted.org/packages/60/3a/58c629472d10539ae5167dc7c1fecfa95dd7d0b7864623931e3776438a24/Flask_WTF-0.14.2-py2.py3-none-any.whl\n",
            "Requirement already satisfied: Werkzeug in /usr/local/lib/python3.6/dist-packages (0.15.5)\n",
            "Requirement already satisfied: click>=5.1 in /usr/local/lib/python3.6/dist-packages (from Flask) (7.0)\n",
            "Requirement already satisfied: Jinja2>=2.10.1 in /usr/local/lib/python3.6/dist-packages (from Flask) (2.10.1)\n",
            "Requirement already satisfied: itsdangerous>=0.24 in /usr/local/lib/python3.6/dist-packages (from Flask) (1.1.0)\n",
            "Requirement already satisfied: MarkupSafe>=0.23 in /usr/local/lib/python3.6/dist-packages (from Jinja2>=2.10.1->Flask) (1.1.1)\n",
            "Installing collected packages: WTForms, Flask-WTF\n",
            "Successfully installed Flask-WTF-0.14.2 WTForms-2.2.1\n"
          ],
          "name": "stdout"
        }
      ]
    },
    {
      "cell_type": "markdown",
      "metadata": {
        "id": "mfzj02T4x8HS",
        "colab_type": "text"
      },
      "source": [
        "## Download the pretrained model binaries"
      ]
    },
    {
      "cell_type": "code",
      "metadata": {
        "id": "0kEqwrmox9oB",
        "colab_type": "code",
        "colab": {
          "base_uri": "https://localhost:8080/",
          "height": 272
        },
        "outputId": "56f43750-f64b-48d9-998a-9a98cf32aac2"
      },
      "source": [
        "%%bash\n",
        "mkdir -p /content/graph_def\n",
        "cd /tmp\n",
        "for model in \\\n",
        "    ssd_mobilenet_v2_coco_2018_03_29 \\\n",
        "    ssd_inception_v2_coco_2018_01_28 \\\n",
        "    rfcn_resnet101_coco_2018_01_28 \\\n",
        "    faster_rcnn_resnet101_coco_2018_01_28 \\\n",
        "    faster_rcnn_inception_resnet_v2_atrous_coco_2018_01_28\n",
        "  do \\\n",
        "    curl -OL http://download.tensorflow.org/models/object_detection/$model.tar.gz\n",
        "    tar -xzf $model.tar.gz $model/frozen_inference_graph.pb\n",
        "    cp -a $model /content/graph_def/\n",
        "  done"
      ],
      "execution_count": 11,
      "outputs": [
        {
          "output_type": "stream",
          "text": [
            "  % Total    % Received % Xferd  Average Speed   Time    Time     Time  Current\n",
            "                                 Dload  Upload   Total   Spent    Left  Speed\n",
            "\r  0     0    0     0    0     0      0      0 --:--:-- --:--:-- --:--:--     0\r  2  179M    2 4120k    0     0  6901k      0  0:00:26 --:--:--  0:00:26 6889k\r100  179M  100  179M    0     0   147M      0  0:00:01  0:00:01 --:--:--  147M\n",
            "  % Total    % Received % Xferd  Average Speed   Time    Time     Time  Current\n",
            "                                 Dload  Upload   Total   Spent    Left  Speed\n",
            "\r  0     0    0     0    0     0      0      0 --:--:-- --:--:-- --:--:--     0\r  1  265M    1 4129k    0     0  3743k      0  0:01:12  0:00:01  0:01:11 3743k\r 15  265M   15 40.0M    0     0  22.8M      0  0:00:11  0:00:01  0:00:10 22.8M\r 41  265M   41  108M    0     0  42.5M      0  0:00:06  0:00:02  0:00:04 42.5M\r 68  265M   68  182M    0     0  51.1M      0  0:00:05  0:00:03  0:00:02 51.1M\r 93  265M   93  248M    0     0  54.0M      0  0:00:04  0:00:04 --:--:-- 54.0M\r100  265M  100  265M    0     0  56.9M      0  0:00:04  0:00:04 --:--:-- 73.5M\n",
            "  % Total    % Received % Xferd  Average Speed   Time    Time     Time  Current\n",
            "                                 Dload  Upload   Total   Spent    Left  Speed\n",
            "\r  0     0    0     0    0     0      0      0 --:--:-- --:--:-- --:--:--     0\r  0     0    0     0    0     0      0      0 --:--:-- --:--:-- --:--:--     0\r  0  622M    0 4168k    0     0  3559k      0  0:02:59  0:00:01  0:02:58 3556k\r 10  622M   10 64.0M    0     0  30.2M      0  0:00:20  0:00:02  0:00:18 30.2M\r 18  622M   18  112M    0     0  35.2M      0  0:00:17  0:00:03  0:00:14 35.2M\r 26  622M   26  168M    0     0  40.9M      0  0:00:15  0:00:04  0:00:11 40.9M\r 37  622M   37  232M    0     0  45.7M      0  0:00:13  0:00:05  0:00:08 47.7M\r 47  622M   47  296M    0     0  48.6M      0  0:00:12  0:00:06  0:00:06 59.3M\r 56  622M   56  352M    0     0  49.9M      0  0:00:12  0:00:07  0:00:05 58.3M\r 66  622M   66  416M    0     0  51.9M      0  0:00:11  0:00:08  0:00:03 62.8M\r 76  622M   76  475M    0     0  52.8M      0  0:00:11  0:00:09  0:00:02 62.6M\r 83  622M   83  520M    0     0  51.6M      0  0:00:12  0:00:10  0:00:02 57.6M\r 95  622M   95  592M    0     0  52.8M      0  0:00:11  0:00:11 --:--:-- 57.9M\r100  622M  100  622M    0     0  54.8M      0  0:00:11  0:00:11 --:--:-- 62.8M\n",
            "  % Total    % Received % Xferd  Average Speed   Time    Time     Time  Current\n",
            "                                 Dload  Upload   Total   Spent    Left  Speed\n",
            "\r  0     0    0     0    0     0      0      0 --:--:-- --:--:-- --:--:--     0\r  0  565M    0 12598    0     0  22063      0  7:28:17 --:--:--  7:28:17 22024\r  5  565M    5 32.0M    0     0  19.9M      0  0:00:28  0:00:01  0:00:27 19.9M\r 16  565M   16 96.0M    0     0  36.8M      0  0:00:15  0:00:02  0:00:13 36.8M\r 29  565M   29  168M    0     0  45.8M      0  0:00:12  0:00:03  0:00:09 45.8M\r 37  565M   37  211M    0     0  46.2M      0  0:00:12  0:00:04  0:00:08 46.2M\r 48  565M   48  272M    0     0  46.7M      0  0:00:12  0:00:05  0:00:07 51.8M\r 57  565M   57  328M    0     0  49.5M      0  0:00:11  0:00:06  0:00:05 59.0M\r 67  565M   67  384M    0     0  50.1M      0  0:00:11  0:00:07  0:00:04 56.9M\r 79  565M   79  448M    0     0  51.5M      0  0:00:10  0:00:08  0:00:02 55.7M\r 90  565M   90  512M    0     0  52.9M      0  0:00:10  0:00:09  0:00:01 58.8M\r100  565M  100  565M    0     0  54.2M      0  0:00:10  0:00:10 --:--:-- 63.6M\n",
            "  % Total    % Received % Xferd  Average Speed   Time    Time     Time  Current\n",
            "                                 Dload  Upload   Total   Spent    Left  Speed\n",
            "\r  0     0    0     0    0     0      0      0 --:--:-- --:--:-- --:--:--     0\r  2  641M    2 16.0M    0     0  18.6M      0  0:00:34 --:--:--  0:00:34 18.6M\r 13  641M   13 85.8M    0     0  46.1M      0  0:00:13  0:00:01  0:00:12 46.1M\r 23  641M   23  152M    0     0  53.0M      0  0:00:12  0:00:02  0:00:10 53.0M\r 33  641M   33  216M    0     0  55.3M      0  0:00:11  0:00:03  0:00:08 55.2M\r 43  641M   43  280M    0     0  56.9M      0  0:00:11  0:00:04  0:00:07 56.9M\r 53  641M   53  344M    0     0  58.0M      0  0:00:11  0:00:05  0:00:06 64.7M\r 64  641M   64  416M    0     0  58.9M      0  0:00:10  0:00:07  0:00:03 63.5M\r 76  641M   76  488M    0     0  60.7M      0  0:00:10  0:00:08  0:00:02 64.9M\r 86  641M   86  552M    0     0  61.9M      0  0:00:10  0:00:08  0:00:02 67.1M\r 94  641M   94  608M    0     0  61.0M      0  0:00:10  0:00:09  0:00:01 65.1M\r100  641M  100  641M    0     0  62.6M      0  0:00:10  0:00:10 --:--:-- 68.9M\n"
          ],
          "name": "stderr"
        }
      ]
    },
    {
      "cell_type": "code",
      "metadata": {
        "id": "4B3qldwFywWD",
        "colab_type": "code",
        "colab": {}
      },
      "source": [
        "!ln -sf /content/graph_def/faster_rcnn_resnet101_coco_2018_01_28/frozen_inference_graph.pb /content/graph_def/frozen_inference_graph.pb"
      ],
      "execution_count": 0,
      "outputs": []
    },
    {
      "cell_type": "markdown",
      "metadata": {
        "id": "1aI6CHfkzU4p",
        "colab_type": "text"
      },
      "source": [
        "## Install the demo application"
      ]
    },
    {
      "cell_type": "code",
      "metadata": {
        "id": "0rtM7yC0zT2r",
        "colab_type": "code",
        "colab": {
          "base_uri": "https://localhost:8080/",
          "height": 102
        },
        "outputId": "09ce112f-8cf2-41ab-a3fc-38ee873e7479"
      },
      "source": [
        "%cd /content\n",
        "!git clone https://github.com/GoogleCloudPlatform/tensorflow-object-detection-example\n",
        "!cp -a tensorflow-object-detection-example/object_detection_app /content/\n",
        "#!cp /content/object_detection_app/object-detection.service /etc/systemd/system/"
      ],
      "execution_count": 13,
      "outputs": [
        {
          "output_type": "stream",
          "text": [
            "/content\n",
            "Cloning into 'tensorflow-object-detection-example'...\n",
            "remote: Enumerating objects: 51, done.\u001b[K\n",
            "remote: Total 51 (delta 0), reused 0 (delta 0), pack-reused 51\u001b[K\n",
            "Unpacking objects: 100% (51/51), done.\n"
          ],
          "name": "stdout"
        }
      ]
    },
    {
      "cell_type": "code",
      "metadata": {
        "id": "nBKegAAT0zEE",
        "colab_type": "code",
        "colab": {
          "base_uri": "https://localhost:8080/",
          "height": 561
        },
        "outputId": "2b837bd9-b4e2-403d-a59b-7e62463512cb"
      },
      "source": [
        "!sed -i.bak -e \"s|import cStringIO|import io|g;s|cStringIO.StringIO|io.BytesIO|g;s|/opt|/content|g;s|for i in range(num_detections)|for i in range(int(num_detections))|g;s|base64.b64encode(image_buffer.getvalue()))|base64.b64encode(image_buffer.getvalue()).decode())|g;s|iteritems()|items()|g\" /content/object_detection_app/app.py /content/object_detection_app/templates/upload.html\n",
        "!diff /content/object_detection_app/app.py.bak /content/object_detection_app/app.py\n",
        "!diff /content/object_detection_app/templates/upload.html.bak /content/object_detection_app/templates/upload.html"
      ],
      "execution_count": 14,
      "outputs": [
        {
          "output_type": "stream",
          "text": [
            "20c20\n",
            "< import cStringIO\n",
            "---\n",
            "> import io\n",
            "24c24\n",
            "< MODEL_BASE = '/opt/models/research'\n",
            "---\n",
            "> MODEL_BASE = '/content/models/research'\n",
            "55c55\n",
            "< PATH_TO_CKPT = '/opt/graph_def/frozen_inference_graph.pb'\n",
            "---\n",
            "> PATH_TO_CKPT = '/content/graph_def/frozen_inference_graph.pb'\n",
            "139c139\n",
            "<   image_buffer = cStringIO.StringIO()\n",
            "---\n",
            ">   image_buffer = io.BytesIO()\n",
            "142c142\n",
            "<       base64.b64encode(image_buffer.getvalue()))\n",
            "---\n",
            ">       base64.b64encode(image_buffer.getvalue()).decode())\n",
            "152c152\n",
            "<   for i in range(num_detections):\n",
            "---\n",
            ">   for i in range(int(num_detections)):\n",
            "163c163\n",
            "<   for cls, new_image in new_images.iteritems():\n",
            "---\n",
            ">   for cls, new_image in new_images.items():\n",
            "50c50\n",
            "<           {% for name, img in result.iteritems() %}\n",
            "---\n",
            ">           {% for name, img in result.items() %}\n"
          ],
          "name": "stdout"
        }
      ]
    },
    {
      "cell_type": "code",
      "metadata": {
        "id": "amXZi_w83ZkS",
        "colab_type": "code",
        "colab": {}
      },
      "source": [
        "#!cp -p /content/object_detection_app/app.py.bak /content/object_detection_app/app.py"
      ],
      "execution_count": 0,
      "outputs": []
    },
    {
      "cell_type": "markdown",
      "metadata": {
        "id": "jdFQVkHk0LhO",
        "colab_type": "text"
      },
      "source": [
        "## Install ngrok"
      ]
    },
    {
      "cell_type": "code",
      "metadata": {
        "id": "6RXBYRv_0MTq",
        "colab_type": "code",
        "colab": {
          "base_uri": "https://localhost:8080/",
          "height": 238
        },
        "outputId": "0eadcc85-4d9c-40b1-9150-ba37a56c1ddd"
      },
      "source": [
        "!wget https://bin.equinox.io/c/4VmDzA7iaHb/ngrok-stable-linux-amd64.zip\n",
        "!unzip ngrok-stable-linux-amd64.zip"
      ],
      "execution_count": 16,
      "outputs": [
        {
          "output_type": "stream",
          "text": [
            "--2019-08-19 10:11:45--  https://bin.equinox.io/c/4VmDzA7iaHb/ngrok-stable-linux-amd64.zip\n",
            "Resolving bin.equinox.io (bin.equinox.io)... 52.23.2.88, 52.22.236.254, 52.73.84.118, ...\n",
            "Connecting to bin.equinox.io (bin.equinox.io)|52.23.2.88|:443... connected.\n",
            "HTTP request sent, awaiting response... 200 OK\n",
            "Length: 13607069 (13M) [application/octet-stream]\n",
            "Saving to: ‘ngrok-stable-linux-amd64.zip’\n",
            "\n",
            "ngrok-stable-linux- 100%[===================>]  12.98M  6.53MB/s    in 2.0s    \n",
            "\n",
            "2019-08-19 10:11:47 (6.53 MB/s) - ‘ngrok-stable-linux-amd64.zip’ saved [13607069/13607069]\n",
            "\n",
            "Archive:  ngrok-stable-linux-amd64.zip\n",
            "  inflating: ngrok                   \n"
          ],
          "name": "stdout"
        }
      ]
    },
    {
      "cell_type": "code",
      "metadata": {
        "id": "X94lQ6n20PCi",
        "colab_type": "code",
        "colab": {
          "base_uri": "https://localhost:8080/",
          "height": 34
        },
        "outputId": "a44478ba-e557-4d0f-ce2a-3a4e047b2261"
      },
      "source": [
        "get_ipython().system_raw('./ngrok http 80 &')\n",
        "! curl -s http://localhost:4040/api/tunnels | python3 -c \\\n",
        "    \"import sys, json; print(json.load(sys.stdin)['tunnels'][0]['public_url'])\""
      ],
      "execution_count": 19,
      "outputs": [
        {
          "output_type": "stream",
          "text": [
            "https://08d102f8.ngrok.io\n"
          ],
          "name": "stdout"
        }
      ]
    },
    {
      "cell_type": "markdown",
      "metadata": {
        "id": "X1YGfz9IXXj6",
        "colab_type": "text"
      },
      "source": [
        "*   USERNAME = 'username'\n",
        "*   PASSWORD = 'passw0rd'"
      ]
    },
    {
      "cell_type": "markdown",
      "metadata": {
        "id": "zjQN-zKwX4tB",
        "colab_type": "text"
      },
      "source": [
        "## Serve Flask app and Click ngrok URL"
      ]
    },
    {
      "cell_type": "code",
      "metadata": {
        "id": "3ZHyGyJP0CTz",
        "colab_type": "code",
        "colab": {
          "base_uri": "https://localhost:8080/",
          "height": 1000
        },
        "outputId": "38fc3a59-e60a-496a-be16-596b6c998326"
      },
      "source": [
        "!python /content/object_detection_app/app.py"
      ],
      "execution_count": 20,
      "outputs": [
        {
          "output_type": "stream",
          "text": [
            "WARNING: Logging before flag parsing goes to stderr.\n",
            "W0819 10:12:14.219807 139769694820224 deprecation_wrapper.py:119] From /content/object_detection_app/app.py:94: The name tf.GraphDef is deprecated. Please use tf.compat.v1.GraphDef instead.\n",
            "\n",
            "W0819 10:12:14.220148 139769694820224 deprecation_wrapper.py:119] From /content/object_detection_app/app.py:95: The name tf.gfile.GFile is deprecated. Please use tf.io.gfile.GFile instead.\n",
            "\n",
            "W0819 10:12:16.933358 139769694820224 deprecation_wrapper.py:119] From /content/object_detection_app/app.py:84: The name tf.Session is deprecated. Please use tf.compat.v1.Session instead.\n",
            "\n",
            "2019-08-19 10:12:16.934826: I tensorflow/stream_executor/platform/default/dso_loader.cc:42] Successfully opened dynamic library libcuda.so.1\n",
            "2019-08-19 10:12:16.954042: I tensorflow/stream_executor/cuda/cuda_gpu_executor.cc:1005] successful NUMA node read from SysFS had negative value (-1), but there must be at least one NUMA node, so returning NUMA node zero\n",
            "2019-08-19 10:12:16.954501: I tensorflow/core/common_runtime/gpu/gpu_device.cc:1640] Found device 0 with properties: \n",
            "name: Tesla K80 major: 3 minor: 7 memoryClockRate(GHz): 0.8235\n",
            "pciBusID: 0000:00:04.0\n",
            "2019-08-19 10:12:16.954754: I tensorflow/stream_executor/platform/default/dso_loader.cc:42] Successfully opened dynamic library libcudart.so.10.0\n",
            "2019-08-19 10:12:16.956017: I tensorflow/stream_executor/platform/default/dso_loader.cc:42] Successfully opened dynamic library libcublas.so.10.0\n",
            "2019-08-19 10:12:16.957255: I tensorflow/stream_executor/platform/default/dso_loader.cc:42] Successfully opened dynamic library libcufft.so.10.0\n",
            "2019-08-19 10:12:16.957668: I tensorflow/stream_executor/platform/default/dso_loader.cc:42] Successfully opened dynamic library libcurand.so.10.0\n",
            "2019-08-19 10:12:16.959071: I tensorflow/stream_executor/platform/default/dso_loader.cc:42] Successfully opened dynamic library libcusolver.so.10.0\n",
            "2019-08-19 10:12:16.960062: I tensorflow/stream_executor/platform/default/dso_loader.cc:42] Successfully opened dynamic library libcusparse.so.10.0\n",
            "2019-08-19 10:12:16.963523: I tensorflow/stream_executor/platform/default/dso_loader.cc:42] Successfully opened dynamic library libcudnn.so.7\n",
            "2019-08-19 10:12:16.963629: I tensorflow/stream_executor/cuda/cuda_gpu_executor.cc:1005] successful NUMA node read from SysFS had negative value (-1), but there must be at least one NUMA node, so returning NUMA node zero\n",
            "2019-08-19 10:12:16.964197: I tensorflow/stream_executor/cuda/cuda_gpu_executor.cc:1005] successful NUMA node read from SysFS had negative value (-1), but there must be at least one NUMA node, so returning NUMA node zero\n",
            "2019-08-19 10:12:16.964542: I tensorflow/core/common_runtime/gpu/gpu_device.cc:1763] Adding visible gpu devices: 0\n",
            "2019-08-19 10:12:16.970156: I tensorflow/core/platform/profile_utils/cpu_utils.cc:94] CPU Frequency: 2200000000 Hz\n",
            "2019-08-19 10:12:16.970377: I tensorflow/compiler/xla/service/service.cc:168] XLA service 0x137db80 executing computations on platform Host. Devices:\n",
            "2019-08-19 10:12:16.970411: I tensorflow/compiler/xla/service/service.cc:175]   StreamExecutor device (0): <undefined>, <undefined>\n",
            "2019-08-19 10:12:17.043211: I tensorflow/stream_executor/cuda/cuda_gpu_executor.cc:1005] successful NUMA node read from SysFS had negative value (-1), but there must be at least one NUMA node, so returning NUMA node zero\n",
            "2019-08-19 10:12:17.043778: I tensorflow/compiler/xla/service/service.cc:168] XLA service 0x3f02e540 executing computations on platform CUDA. Devices:\n",
            "2019-08-19 10:12:17.043813: I tensorflow/compiler/xla/service/service.cc:175]   StreamExecutor device (0): Tesla K80, Compute Capability 3.7\n",
            "2019-08-19 10:12:17.044048: I tensorflow/stream_executor/cuda/cuda_gpu_executor.cc:1005] successful NUMA node read from SysFS had negative value (-1), but there must be at least one NUMA node, so returning NUMA node zero\n",
            "2019-08-19 10:12:17.044486: I tensorflow/core/common_runtime/gpu/gpu_device.cc:1640] Found device 0 with properties: \n",
            "name: Tesla K80 major: 3 minor: 7 memoryClockRate(GHz): 0.8235\n",
            "pciBusID: 0000:00:04.0\n",
            "2019-08-19 10:12:17.044561: I tensorflow/stream_executor/platform/default/dso_loader.cc:42] Successfully opened dynamic library libcudart.so.10.0\n",
            "2019-08-19 10:12:17.044596: I tensorflow/stream_executor/platform/default/dso_loader.cc:42] Successfully opened dynamic library libcublas.so.10.0\n",
            "2019-08-19 10:12:17.044626: I tensorflow/stream_executor/platform/default/dso_loader.cc:42] Successfully opened dynamic library libcufft.so.10.0\n",
            "2019-08-19 10:12:17.044655: I tensorflow/stream_executor/platform/default/dso_loader.cc:42] Successfully opened dynamic library libcurand.so.10.0\n",
            "2019-08-19 10:12:17.044690: I tensorflow/stream_executor/platform/default/dso_loader.cc:42] Successfully opened dynamic library libcusolver.so.10.0\n",
            "2019-08-19 10:12:17.044719: I tensorflow/stream_executor/platform/default/dso_loader.cc:42] Successfully opened dynamic library libcusparse.so.10.0\n",
            "2019-08-19 10:12:17.044749: I tensorflow/stream_executor/platform/default/dso_loader.cc:42] Successfully opened dynamic library libcudnn.so.7\n",
            "2019-08-19 10:12:17.044825: I tensorflow/stream_executor/cuda/cuda_gpu_executor.cc:1005] successful NUMA node read from SysFS had negative value (-1), but there must be at least one NUMA node, so returning NUMA node zero\n",
            "2019-08-19 10:12:17.045327: I tensorflow/stream_executor/cuda/cuda_gpu_executor.cc:1005] successful NUMA node read from SysFS had negative value (-1), but there must be at least one NUMA node, so returning NUMA node zero\n",
            "2019-08-19 10:12:17.045676: I tensorflow/core/common_runtime/gpu/gpu_device.cc:1763] Adding visible gpu devices: 0\n",
            "2019-08-19 10:12:17.045740: I tensorflow/stream_executor/platform/default/dso_loader.cc:42] Successfully opened dynamic library libcudart.so.10.0\n",
            "2019-08-19 10:12:17.046720: I tensorflow/core/common_runtime/gpu/gpu_device.cc:1181] Device interconnect StreamExecutor with strength 1 edge matrix:\n",
            "2019-08-19 10:12:17.046766: I tensorflow/core/common_runtime/gpu/gpu_device.cc:1187]      0 \n",
            "2019-08-19 10:12:17.046793: I tensorflow/core/common_runtime/gpu/gpu_device.cc:1200] 0:   N \n",
            "2019-08-19 10:12:17.047090: I tensorflow/stream_executor/cuda/cuda_gpu_executor.cc:1005] successful NUMA node read from SysFS had negative value (-1), but there must be at least one NUMA node, so returning NUMA node zero\n",
            "2019-08-19 10:12:17.047521: I tensorflow/stream_executor/cuda/cuda_gpu_executor.cc:1005] successful NUMA node read from SysFS had negative value (-1), but there must be at least one NUMA node, so returning NUMA node zero\n",
            "2019-08-19 10:12:17.047913: W tensorflow/core/common_runtime/gpu/gpu_bfc_allocator.cc:40] Overriding allow_growth setting because the TF_FORCE_GPU_ALLOW_GROWTH environment variable is set. Original config value was 0.\n",
            "2019-08-19 10:12:17.048059: I tensorflow/core/common_runtime/gpu/gpu_device.cc:1326] Created TensorFlow device (/job:localhost/replica:0/task:0/device:GPU:0 with 10802 MB memory) -> physical GPU (device: 0, name: Tesla K80, pci bus id: 0000:00:04.0, compute capability: 3.7)\n",
            " * Serving Flask app \"app\" (lazy loading)\n",
            " * Environment: production\n",
            "\u001b[31m   WARNING: This is a development server. Do not use it in a production deployment.\u001b[0m\n",
            "\u001b[2m   Use a production WSGI server instead.\u001b[0m\n",
            " * Debug mode: off\n",
            "I0819 10:12:17.064435 139769694820224 _internal.py:122]  * Running on http://0.0.0.0:80/ (Press CTRL+C to quit)\n",
            "I0819 10:12:22.181237 139767385577216 _internal.py:122] 127.0.0.1 - - [19/Aug/2019 10:12:22] \"\u001b[1m\u001b[31mGET / HTTP/1.1\u001b[0m\" 401 -\n",
            "I0819 10:12:34.281080 139767385577216 _internal.py:122] 127.0.0.1 - - [19/Aug/2019 10:12:34] \"\u001b[37mGET / HTTP/1.1\u001b[0m\" 200 -\n",
            "I0819 10:12:34.969870 139767385577216 _internal.py:122] 127.0.0.1 - - [19/Aug/2019 10:12:34] \"\u001b[33mGET /favicon.ico HTTP/1.1\u001b[0m\" 404 -\n",
            "2019-08-19 10:13:54.052600: I tensorflow/stream_executor/platform/default/dso_loader.cc:42] Successfully opened dynamic library libcublas.so.10.0\n",
            "2019-08-19 10:13:54.802279: I tensorflow/stream_executor/platform/default/dso_loader.cc:42] Successfully opened dynamic library libcudnn.so.7\n",
            "I0819 10:13:59.321440 139767385577216 _internal.py:122] 127.0.0.1 - - [19/Aug/2019 10:13:59] \"\u001b[37mPOST /post HTTP/1.1\u001b[0m\" 200 -\n",
            "Error in atexit._run_exitfuncs:\n",
            "Traceback (most recent call last):\n",
            "  File \"/usr/lib/python3.6/concurrent/futures/thread.py\", line 33, in _python_exit\n",
            "    def _python_exit():\n",
            "KeyboardInterrupt\n"
          ],
          "name": "stdout"
        }
      ]
    }
  ]
}