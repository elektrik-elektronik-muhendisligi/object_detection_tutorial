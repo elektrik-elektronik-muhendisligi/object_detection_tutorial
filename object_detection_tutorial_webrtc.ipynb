{
  "nbformat": 4,
  "nbformat_minor": 0,
  "metadata": {
    "colab": {
      "name": "object_detection_tutorial_webrtc.ipynb",
      "version": "0.3.2",
      "provenance": [],
      "collapsed_sections": [],
      "include_colab_link": true
    },
    "kernelspec": {
      "name": "python3",
      "display_name": "Python 3"
    },
    "accelerator": "GPU"
  },
  "cells": [
    {
      "cell_type": "markdown",
      "metadata": {
        "id": "view-in-github",
        "colab_type": "text"
      },
      "source": [
        "<a href=\"https://colab.research.google.com/github/lvisdd/object_detection_tutorial/blob/master/object_detection_tutorial_webrtc.ipynb\" target=\"_parent\"><img src=\"https://colab.research.google.com/assets/colab-badge.svg\" alt=\"Open In Colab\"/></a>"
      ]
    },
    {
      "cell_type": "code",
      "metadata": {
        "id": "cor8fWw3gF0W",
        "colab_type": "code",
        "colab": {}
      },
      "source": [
        "# restart (or reset) your virtual machine\n",
        "#!kill -9 -1"
      ],
      "execution_count": 0,
      "outputs": []
    },
    {
      "cell_type": "markdown",
      "metadata": {
        "id": "5vMoF2OaFTxi",
        "colab_type": "text"
      },
      "source": [
        "# [Tensorflow Object Detection API](https://github.com/tensorflow/models/tree/master/research/object_detection)"
      ]
    },
    {
      "cell_type": "code",
      "metadata": {
        "id": "cIucMKsaFXBY",
        "colab_type": "code",
        "outputId": "4ae92d63-d1db-4854-8ea0-db842641df68",
        "colab": {
          "base_uri": "https://localhost:8080/",
          "height": 136
        }
      },
      "source": [
        "!git clone https://github.com/tensorflow/models.git"
      ],
      "execution_count": 2,
      "outputs": [
        {
          "output_type": "stream",
          "text": [
            "Cloning into 'models'...\n",
            "remote: Enumerating objects: 1, done.\u001b[K\n",
            "remote: Counting objects: 100% (1/1), done.\u001b[K\n",
            "remote: Total 30099 (delta 0), reused 1 (delta 0), pack-reused 30098\u001b[K\n",
            "Receiving objects: 100% (30099/30099), 510.30 MiB | 32.24 MiB/s, done.\n",
            "Resolving deltas: 100% (18833/18833), done.\n",
            "Checking out files: 100% (3059/3059), done.\n"
          ],
          "name": "stdout"
        }
      ]
    },
    {
      "cell_type": "markdown",
      "metadata": {
        "id": "zesR5I_qFbJg",
        "colab_type": "text"
      },
      "source": [
        "# COCO API installation"
      ]
    },
    {
      "cell_type": "code",
      "metadata": {
        "id": "D44-QM5cFaqX",
        "colab_type": "code",
        "outputId": "742467bb-ffb2-4be4-8d81-b1f453e2e8ef",
        "colab": {
          "base_uri": "https://localhost:8080/",
          "height": 1000
        }
      },
      "source": [
        "!git clone https://github.com/cocodataset/cocoapi.git\n",
        "%cd cocoapi/PythonAPI\n",
        "!make\n",
        "!cp -r pycocotools /content/models/research/"
      ],
      "execution_count": 3,
      "outputs": [
        {
          "output_type": "stream",
          "text": [
            "Cloning into 'cocoapi'...\n",
            "remote: Enumerating objects: 959, done.\u001b[K\n",
            "remote: Total 959 (delta 0), reused 0 (delta 0), pack-reused 959\u001b[K\n",
            "Receiving objects: 100% (959/959), 11.69 MiB | 12.25 MiB/s, done.\n",
            "Resolving deltas: 100% (571/571), done.\n",
            "/content/cocoapi/PythonAPI\n",
            "python setup.py build_ext --inplace\n",
            "running build_ext\n",
            "cythoning pycocotools/_mask.pyx to pycocotools/_mask.c\n",
            "/usr/local/lib/python3.6/dist-packages/Cython/Compiler/Main.py:369: FutureWarning: Cython directive 'language_level' not set, using 2 for now (Py2). This will change in a later release! File: /content/cocoapi/PythonAPI/pycocotools/_mask.pyx\n",
            "  tree = Parsing.p_module(s, pxd, full_module_name)\n",
            "building 'pycocotools._mask' extension\n",
            "creating build\n",
            "creating build/common\n",
            "creating build/temp.linux-x86_64-3.6\n",
            "creating build/temp.linux-x86_64-3.6/pycocotools\n",
            "x86_64-linux-gnu-gcc -pthread -DNDEBUG -g -fwrapv -O2 -Wall -g -fstack-protector-strong -Wformat -Werror=format-security -Wdate-time -D_FORTIFY_SOURCE=2 -fPIC -I/usr/local/lib/python3.6/dist-packages/numpy/core/include -I../common -I/usr/include/python3.6m -c ../common/maskApi.c -o build/temp.linux-x86_64-3.6/../common/maskApi.o -Wno-cpp -Wno-unused-function -std=c99\n",
            "\u001b[01m\u001b[K../common/maskApi.c:\u001b[m\u001b[K In function ‘\u001b[01m\u001b[KrleDecode\u001b[m\u001b[K’:\n",
            "\u001b[01m\u001b[K../common/maskApi.c:46:7:\u001b[m\u001b[K \u001b[01;35m\u001b[Kwarning: \u001b[m\u001b[Kthis ‘\u001b[01m\u001b[Kfor\u001b[m\u001b[K’ clause does not guard... [\u001b[01;35m\u001b[K-Wmisleading-indentation\u001b[m\u001b[K]\n",
            "       \u001b[01;35m\u001b[Kfor\u001b[m\u001b[K( k=0; k<R[i].cnts[j]; k++ ) *(M++)=v; v=!v; }}\n",
            "       \u001b[01;35m\u001b[K^~~\u001b[m\u001b[K\n",
            "\u001b[01m\u001b[K../common/maskApi.c:46:49:\u001b[m\u001b[K \u001b[01;36m\u001b[Knote: \u001b[m\u001b[K...this statement, but the latter is misleadingly indented as if it were guarded by the ‘\u001b[01m\u001b[Kfor\u001b[m\u001b[K’\n",
            "       for( k=0; k<R[i].cnts[j]; k++ ) *(M++)=v; \u001b[01;36m\u001b[Kv\u001b[m\u001b[K=!v; }}\n",
            "                                                 \u001b[01;36m\u001b[K^\u001b[m\u001b[K\n",
            "\u001b[01m\u001b[K../common/maskApi.c:\u001b[m\u001b[K In function ‘\u001b[01m\u001b[KrleFrPoly\u001b[m\u001b[K’:\n",
            "\u001b[01m\u001b[K../common/maskApi.c:166:3:\u001b[m\u001b[K \u001b[01;35m\u001b[Kwarning: \u001b[m\u001b[Kthis ‘\u001b[01m\u001b[Kfor\u001b[m\u001b[K’ clause does not guard... [\u001b[01;35m\u001b[K-Wmisleading-indentation\u001b[m\u001b[K]\n",
            "   \u001b[01;35m\u001b[Kfor\u001b[m\u001b[K(j=0; j<k; j++) x[j]=(int)(scale*xy[j*2+0]+.5); x[k]=x[0];\n",
            "   \u001b[01;35m\u001b[K^~~\u001b[m\u001b[K\n",
            "\u001b[01m\u001b[K../common/maskApi.c:166:54:\u001b[m\u001b[K \u001b[01;36m\u001b[Knote: \u001b[m\u001b[K...this statement, but the latter is misleadingly indented as if it were guarded by the ‘\u001b[01m\u001b[Kfor\u001b[m\u001b[K’\n",
            "   for(j=0; j<k; j++) x[j]=(int)(scale*xy[j*2+0]+.5); \u001b[01;36m\u001b[Kx\u001b[m\u001b[K[k]=x[0];\n",
            "                                                      \u001b[01;36m\u001b[K^\u001b[m\u001b[K\n",
            "\u001b[01m\u001b[K../common/maskApi.c:167:3:\u001b[m\u001b[K \u001b[01;35m\u001b[Kwarning: \u001b[m\u001b[Kthis ‘\u001b[01m\u001b[Kfor\u001b[m\u001b[K’ clause does not guard... [\u001b[01;35m\u001b[K-Wmisleading-indentation\u001b[m\u001b[K]\n",
            "   \u001b[01;35m\u001b[Kfor\u001b[m\u001b[K(j=0; j<k; j++) y[j]=(int)(scale*xy[j*2+1]+.5); y[k]=y[0];\n",
            "   \u001b[01;35m\u001b[K^~~\u001b[m\u001b[K\n",
            "\u001b[01m\u001b[K../common/maskApi.c:167:54:\u001b[m\u001b[K \u001b[01;36m\u001b[Knote: \u001b[m\u001b[K...this statement, but the latter is misleadingly indented as if it were guarded by the ‘\u001b[01m\u001b[Kfor\u001b[m\u001b[K’\n",
            "   for(j=0; j<k; j++) y[j]=(int)(scale*xy[j*2+1]+.5); \u001b[01;36m\u001b[Ky\u001b[m\u001b[K[k]=y[0];\n",
            "                                                      \u001b[01;36m\u001b[K^\u001b[m\u001b[K\n",
            "\u001b[01m\u001b[K../common/maskApi.c:\u001b[m\u001b[K In function ‘\u001b[01m\u001b[KrleToString\u001b[m\u001b[K’:\n",
            "\u001b[01m\u001b[K../common/maskApi.c:212:7:\u001b[m\u001b[K \u001b[01;35m\u001b[Kwarning: \u001b[m\u001b[Kthis ‘\u001b[01m\u001b[Kif\u001b[m\u001b[K’ clause does not guard... [\u001b[01;35m\u001b[K-Wmisleading-indentation\u001b[m\u001b[K]\n",
            "       \u001b[01;35m\u001b[Kif\u001b[m\u001b[K(more) c |= 0x20; c+=48; s[p++]=c;\n",
            "       \u001b[01;35m\u001b[K^~\u001b[m\u001b[K\n",
            "\u001b[01m\u001b[K../common/maskApi.c:212:27:\u001b[m\u001b[K \u001b[01;36m\u001b[Knote: \u001b[m\u001b[K...this statement, but the latter is misleadingly indented as if it were guarded by the ‘\u001b[01m\u001b[Kif\u001b[m\u001b[K’\n",
            "       if(more) c |= 0x20; \u001b[01;36m\u001b[Kc\u001b[m\u001b[K+=48; s[p++]=c;\n",
            "                           \u001b[01;36m\u001b[K^\u001b[m\u001b[K\n",
            "\u001b[01m\u001b[K../common/maskApi.c:\u001b[m\u001b[K In function ‘\u001b[01m\u001b[KrleFrString\u001b[m\u001b[K’:\n",
            "\u001b[01m\u001b[K../common/maskApi.c:220:3:\u001b[m\u001b[K \u001b[01;35m\u001b[Kwarning: \u001b[m\u001b[Kthis ‘\u001b[01m\u001b[Kwhile\u001b[m\u001b[K’ clause does not guard... [\u001b[01;35m\u001b[K-Wmisleading-indentation\u001b[m\u001b[K]\n",
            "   \u001b[01;35m\u001b[Kwhile\u001b[m\u001b[K( s[m] ) m++; cnts=malloc(sizeof(uint)*m); m=0;\n",
            "   \u001b[01;35m\u001b[K^~~~~\u001b[m\u001b[K\n",
            "\u001b[01m\u001b[K../common/maskApi.c:220:22:\u001b[m\u001b[K \u001b[01;36m\u001b[Knote: \u001b[m\u001b[K...this statement, but the latter is misleadingly indented as if it were guarded by the ‘\u001b[01m\u001b[Kwhile\u001b[m\u001b[K’\n",
            "   while( s[m] ) m++; \u001b[01;36m\u001b[Kcnts\u001b[m\u001b[K=malloc(sizeof(uint)*m); m=0;\n",
            "                      \u001b[01;36m\u001b[K^~~~\u001b[m\u001b[K\n",
            "\u001b[01m\u001b[K../common/maskApi.c:228:5:\u001b[m\u001b[K \u001b[01;35m\u001b[Kwarning: \u001b[m\u001b[Kthis ‘\u001b[01m\u001b[Kif\u001b[m\u001b[K’ clause does not guard... [\u001b[01;35m\u001b[K-Wmisleading-indentation\u001b[m\u001b[K]\n",
            "     \u001b[01;35m\u001b[Kif\u001b[m\u001b[K(m>2) x+=(long) cnts[m-2]; cnts[m++]=(uint) x;\n",
            "     \u001b[01;35m\u001b[K^~\u001b[m\u001b[K\n",
            "\u001b[01m\u001b[K../common/maskApi.c:228:34:\u001b[m\u001b[K \u001b[01;36m\u001b[Knote: \u001b[m\u001b[K...this statement, but the latter is misleadingly indented as if it were guarded by the ‘\u001b[01m\u001b[Kif\u001b[m\u001b[K’\n",
            "     if(m>2) x+=(long) cnts[m-2]; \u001b[01;36m\u001b[Kcnts\u001b[m\u001b[K[m++]=(uint) x;\n",
            "                                  \u001b[01;36m\u001b[K^~~~\u001b[m\u001b[K\n",
            "\u001b[01m\u001b[K../common/maskApi.c:\u001b[m\u001b[K In function ‘\u001b[01m\u001b[KrleToBbox\u001b[m\u001b[K’:\n",
            "\u001b[01m\u001b[K../common/maskApi.c:141:31:\u001b[m\u001b[K \u001b[01;35m\u001b[Kwarning: \u001b[m\u001b[K‘\u001b[01m\u001b[Kxp\u001b[m\u001b[K’ may be used uninitialized in this function [\u001b[01;35m\u001b[K-Wmaybe-uninitialized\u001b[m\u001b[K]\n",
            "       if(j%2==0) xp=x; else if\u001b[01;35m\u001b[K(\u001b[m\u001b[Kxp<x) { ys=0; ye=h-1; }\n",
            "                               \u001b[01;35m\u001b[K^\u001b[m\u001b[K\n",
            "x86_64-linux-gnu-gcc -pthread -DNDEBUG -g -fwrapv -O2 -Wall -g -fstack-protector-strong -Wformat -Werror=format-security -Wdate-time -D_FORTIFY_SOURCE=2 -fPIC -I/usr/local/lib/python3.6/dist-packages/numpy/core/include -I../common -I/usr/include/python3.6m -c pycocotools/_mask.c -o build/temp.linux-x86_64-3.6/pycocotools/_mask.o -Wno-cpp -Wno-unused-function -std=c99\n",
            "creating build/lib.linux-x86_64-3.6\n",
            "creating build/lib.linux-x86_64-3.6/pycocotools\n",
            "x86_64-linux-gnu-gcc -pthread -shared -Wl,-O1 -Wl,-Bsymbolic-functions -Wl,-Bsymbolic-functions -Wl,-z,relro -Wl,-Bsymbolic-functions -Wl,-z,relro -g -fstack-protector-strong -Wformat -Werror=format-security -Wdate-time -D_FORTIFY_SOURCE=2 build/temp.linux-x86_64-3.6/../common/maskApi.o build/temp.linux-x86_64-3.6/pycocotools/_mask.o -o build/lib.linux-x86_64-3.6/pycocotools/_mask.cpython-36m-x86_64-linux-gnu.so\n",
            "copying build/lib.linux-x86_64-3.6/pycocotools/_mask.cpython-36m-x86_64-linux-gnu.so -> pycocotools\n",
            "rm -rf build\n"
          ],
          "name": "stdout"
        }
      ]
    },
    {
      "cell_type": "markdown",
      "metadata": {
        "id": "ZNtknm_fFhcP",
        "colab_type": "text"
      },
      "source": [
        "# Protobuf Compilation"
      ]
    },
    {
      "cell_type": "code",
      "metadata": {
        "id": "_PwXOE1wFk9I",
        "colab_type": "code",
        "outputId": "8038acd1-8077-4e9d-b670-a22da8f2192a",
        "colab": {
          "base_uri": "https://localhost:8080/",
          "height": 34
        }
      },
      "source": [
        "%cd /content/models/research/\n",
        "!protoc object_detection/protos/*.proto --python_out=."
      ],
      "execution_count": 4,
      "outputs": [
        {
          "output_type": "stream",
          "text": [
            "/content/models/research\n"
          ],
          "name": "stdout"
        }
      ]
    },
    {
      "cell_type": "markdown",
      "metadata": {
        "id": "iNPcWjYMFq_n",
        "colab_type": "text"
      },
      "source": [
        "# Add Libraries to PYTHONPATH"
      ]
    },
    {
      "cell_type": "code",
      "metadata": {
        "id": "gc8H-ScuFpv5",
        "colab_type": "code",
        "outputId": "a604fde3-cdf4-4579-b488-490d30492aa2",
        "colab": {
          "base_uri": "https://localhost:8080/",
          "height": 714
        }
      },
      "source": [
        "%cd /content/models/research/\n",
        "%env PYTHONPATH=/env/python:/content/models/research:/content/models/research/slim:/content/models/research/object_detection\n",
        "%env"
      ],
      "execution_count": 5,
      "outputs": [
        {
          "output_type": "stream",
          "text": [
            "/content/models/research\n",
            "env: PYTHONPATH=/env/python:/content/models/research:/content/models/research/slim:/content/models/research/object_detection\n"
          ],
          "name": "stdout"
        },
        {
          "output_type": "execute_result",
          "data": {
            "text/plain": [
              "{'CLICOLOR': '1',\n",
              " 'CLOUDSDK_CONFIG': '/content/.config',\n",
              " 'COLAB_GPU': '1',\n",
              " 'CUDA_PKG_VERSION': '10-0=10.0.130-1',\n",
              " 'CUDA_VERSION': '10.0.130',\n",
              " 'CUDNN_VERSION': '7.6.2.24',\n",
              " 'DATALAB_SETTINGS_OVERRIDES': '{\"kernelManagerProxyPort\":6000,\"kernelManagerProxyHost\":\"172.28.0.3\",\"jupyterArgs\":[\"--ip=\\\\\"172.28.0.2\\\\\"\"]}',\n",
              " 'DEBIAN_FRONTEND': 'noninteractive',\n",
              " 'ENV': '/root/.bashrc',\n",
              " 'GCS_READ_CACHE_BLOCK_SIZE_MB': '16',\n",
              " 'GIT_PAGER': 'cat',\n",
              " 'GLIBCPP_FORCE_NEW': '1',\n",
              " 'GLIBCXX_FORCE_NEW': '1',\n",
              " 'HOME': '/root',\n",
              " 'HOSTNAME': '7c4f9c34d1f8',\n",
              " 'JPY_PARENT_PID': '19',\n",
              " 'LANG': 'en_US.UTF-8',\n",
              " 'LAST_FORCED_REBUILD': '20190507',\n",
              " 'LD_LIBRARY_PATH': '/usr/lib64-nvidia',\n",
              " 'LD_PRELOAD': '/usr/lib/x86_64-linux-gnu/libtcmalloc.so.4',\n",
              " 'LIBRARY_PATH': '/usr/local/cuda/lib64/stubs',\n",
              " 'MPLBACKEND': 'module://ipykernel.pylab.backend_inline',\n",
              " 'NCCL_VERSION': '2.4.7',\n",
              " 'NO_GCE_CHECK': 'True',\n",
              " 'NVIDIA_DRIVER_CAPABILITIES': 'compute,utility',\n",
              " 'NVIDIA_REQUIRE_CUDA': 'cuda>=10.0 brand=tesla,driver>=384,driver<385 brand=tesla,driver>=410,driver<411',\n",
              " 'NVIDIA_VISIBLE_DEVICES': 'all',\n",
              " 'OLDPWD': '/',\n",
              " 'PAGER': 'cat',\n",
              " 'PATH': '/usr/local/nvidia/bin:/usr/local/cuda/bin:/usr/local/sbin:/usr/local/bin:/usr/sbin:/usr/bin:/sbin:/bin:/tools/node/bin:/tools/google-cloud-sdk/bin:/opt/bin',\n",
              " 'PWD': '/',\n",
              " 'PYTHONPATH': '/env/python:/content/models/research:/content/models/research/slim:/content/models/research/object_detection',\n",
              " 'PYTHONWARNINGS': 'ignore:::pip._internal.cli.base_command',\n",
              " 'SHELL': '/bin/bash',\n",
              " 'SHLVL': '1',\n",
              " 'TERM': 'xterm-color',\n",
              " 'TF_FORCE_GPU_ALLOW_GROWTH': 'true',\n",
              " '_': '/tools/node/bin/node',\n",
              " '__EGL_VENDOR_LIBRARY_DIRS': '/usr/lib64-nvidia:/usr/share/glvnd/egl_vendor.d/'}"
            ]
          },
          "metadata": {
            "tags": []
          },
          "execution_count": 5
        }
      ]
    },
    {
      "cell_type": "markdown",
      "metadata": {
        "id": "4lFy4jC7FwYp",
        "colab_type": "text"
      },
      "source": [
        "# Testing the Installation"
      ]
    },
    {
      "cell_type": "code",
      "metadata": {
        "id": "WoZSvZzpFxFo",
        "colab_type": "code",
        "outputId": "96edf84d-99eb-4d2a-b50c-25e11a6c02b0",
        "colab": {
          "base_uri": "https://localhost:8080/",
          "height": 867
        }
      },
      "source": [
        "!python object_detection/builders/model_builder_test.py"
      ],
      "execution_count": 6,
      "outputs": [
        {
          "output_type": "stream",
          "text": [
            "WARNING: Logging before flag parsing goes to stderr.\n",
            "W0825 16:02:09.105135 140522893453184 lazy_loader.py:50] \n",
            "The TensorFlow contrib module will not be included in TensorFlow 2.0.\n",
            "For more information, please see:\n",
            "  * https://github.com/tensorflow/community/blob/master/rfcs/20180907-contrib-sunset.md\n",
            "  * https://github.com/tensorflow/addons\n",
            "  * https://github.com/tensorflow/io (for I/O related ops)\n",
            "If you depend on functionality not listed there, please file an issue.\n",
            "\n",
            "W0825 16:02:09.418316 140522893453184 deprecation_wrapper.py:119] From /content/models/research/slim/nets/inception_resnet_v2.py:373: The name tf.GraphKeys is deprecated. Please use tf.compat.v1.GraphKeys instead.\n",
            "\n",
            "W0825 16:02:09.470947 140522893453184 deprecation_wrapper.py:119] From /content/models/research/slim/nets/mobilenet/mobilenet.py:397: The name tf.nn.avg_pool is deprecated. Please use tf.nn.avg_pool2d instead.\n",
            "\n",
            "Running tests under Python 3.6.8: /usr/bin/python3\n",
            "[ RUN      ] ModelBuilderTest.test_create_faster_rcnn_model_from_config_with_example_miner\n",
            "[       OK ] ModelBuilderTest.test_create_faster_rcnn_model_from_config_with_example_miner\n",
            "[ RUN      ] ModelBuilderTest.test_create_faster_rcnn_models_from_config_faster_rcnn_with_matmul\n",
            "[       OK ] ModelBuilderTest.test_create_faster_rcnn_models_from_config_faster_rcnn_with_matmul\n",
            "[ RUN      ] ModelBuilderTest.test_create_faster_rcnn_models_from_config_faster_rcnn_without_matmul\n",
            "[       OK ] ModelBuilderTest.test_create_faster_rcnn_models_from_config_faster_rcnn_without_matmul\n",
            "[ RUN      ] ModelBuilderTest.test_create_faster_rcnn_models_from_config_mask_rcnn_with_matmul\n",
            "[       OK ] ModelBuilderTest.test_create_faster_rcnn_models_from_config_mask_rcnn_with_matmul\n",
            "[ RUN      ] ModelBuilderTest.test_create_faster_rcnn_models_from_config_mask_rcnn_without_matmul\n",
            "[       OK ] ModelBuilderTest.test_create_faster_rcnn_models_from_config_mask_rcnn_without_matmul\n",
            "[ RUN      ] ModelBuilderTest.test_create_rfcn_model_from_config\n",
            "[       OK ] ModelBuilderTest.test_create_rfcn_model_from_config\n",
            "[ RUN      ] ModelBuilderTest.test_create_ssd_fpn_model_from_config\n",
            "[       OK ] ModelBuilderTest.test_create_ssd_fpn_model_from_config\n",
            "[ RUN      ] ModelBuilderTest.test_create_ssd_models_from_config\n",
            "[       OK ] ModelBuilderTest.test_create_ssd_models_from_config\n",
            "[ RUN      ] ModelBuilderTest.test_invalid_faster_rcnn_batchnorm_update\n",
            "[       OK ] ModelBuilderTest.test_invalid_faster_rcnn_batchnorm_update\n",
            "[ RUN      ] ModelBuilderTest.test_invalid_first_stage_nms_iou_threshold\n",
            "[       OK ] ModelBuilderTest.test_invalid_first_stage_nms_iou_threshold\n",
            "[ RUN      ] ModelBuilderTest.test_invalid_model_config_proto\n",
            "[       OK ] ModelBuilderTest.test_invalid_model_config_proto\n",
            "[ RUN      ] ModelBuilderTest.test_invalid_second_stage_batch_size\n",
            "[       OK ] ModelBuilderTest.test_invalid_second_stage_batch_size\n",
            "[ RUN      ] ModelBuilderTest.test_session\n",
            "[  SKIPPED ] ModelBuilderTest.test_session\n",
            "[ RUN      ] ModelBuilderTest.test_unknown_faster_rcnn_feature_extractor\n",
            "[       OK ] ModelBuilderTest.test_unknown_faster_rcnn_feature_extractor\n",
            "[ RUN      ] ModelBuilderTest.test_unknown_meta_architecture\n",
            "[       OK ] ModelBuilderTest.test_unknown_meta_architecture\n",
            "[ RUN      ] ModelBuilderTest.test_unknown_ssd_feature_extractor\n",
            "[       OK ] ModelBuilderTest.test_unknown_ssd_feature_extractor\n",
            "----------------------------------------------------------------------\n",
            "Ran 16 tests in 0.150s\n",
            "\n",
            "OK (skipped=1)\n"
          ],
          "name": "stdout"
        }
      ]
    },
    {
      "cell_type": "code",
      "metadata": {
        "id": "d6eeEiH4HRoH",
        "colab_type": "code",
        "outputId": "4ff650b8-34b9-4276-837c-c0a7ce929078",
        "colab": {
          "base_uri": "https://localhost:8080/",
          "height": 34
        }
      },
      "source": [
        "%cd /content/models/research/object_detection"
      ],
      "execution_count": 7,
      "outputs": [
        {
          "output_type": "stream",
          "text": [
            "/content/models/research/object_detection\n"
          ],
          "name": "stdout"
        }
      ]
    },
    {
      "cell_type": "markdown",
      "metadata": {
        "id": "d5y3UhXGOyFN",
        "colab_type": "text"
      },
      "source": [
        "## [Tensorflow Object Detection API Web Service](https://github.com/webrtcHacks/tfObjWebrtc)"
      ]
    },
    {
      "cell_type": "code",
      "metadata": {
        "id": "CkzL8IUZO34M",
        "colab_type": "code",
        "colab": {
          "base_uri": "https://localhost:8080/",
          "height": 34
        },
        "outputId": "8253b63b-3078-4cf7-b5df-164cf5b8143a"
      },
      "source": [
        "%cd /content"
      ],
      "execution_count": 8,
      "outputs": [
        {
          "output_type": "stream",
          "text": [
            "/content\n"
          ],
          "name": "stdout"
        }
      ]
    },
    {
      "cell_type": "code",
      "metadata": {
        "id": "W0YBn3ViOyYc",
        "colab_type": "code",
        "colab": {
          "base_uri": "https://localhost:8080/",
          "height": 85
        },
        "outputId": "08ae0b79-3327-4b3a-af6e-7fa89ec9f4ac"
      },
      "source": [
        "!git clone https://github.com/webrtcHacks/tfObjWebrtc.git"
      ],
      "execution_count": 9,
      "outputs": [
        {
          "output_type": "stream",
          "text": [
            "Cloning into 'tfObjWebrtc'...\n",
            "remote: Enumerating objects: 39, done.\u001b[K\n",
            "Unpacking objects:   2% (1/39)   \rUnpacking objects:   5% (2/39)   \rUnpacking objects:   7% (3/39)   \rUnpacking objects:  10% (4/39)   \rremote: Total 39 (delta 0), reused 0 (delta 0), pack-reused 39\u001b[K\n",
            "Unpacking objects:  12% (5/39)   \rUnpacking objects:  15% (6/39)   \rUnpacking objects:  17% (7/39)   \rUnpacking objects:  20% (8/39)   \rUnpacking objects:  23% (9/39)   \rUnpacking objects:  25% (10/39)   \rUnpacking objects:  28% (11/39)   \rUnpacking objects:  30% (12/39)   \rUnpacking objects:  33% (13/39)   \rUnpacking objects:  35% (14/39)   \rUnpacking objects:  38% (15/39)   \rUnpacking objects:  41% (16/39)   \rUnpacking objects:  43% (17/39)   \rUnpacking objects:  46% (18/39)   \rUnpacking objects:  48% (19/39)   \rUnpacking objects:  51% (20/39)   \rUnpacking objects:  53% (21/39)   \rUnpacking objects:  56% (22/39)   \rUnpacking objects:  58% (23/39)   \rUnpacking objects:  61% (24/39)   \rUnpacking objects:  64% (25/39)   \rUnpacking objects:  66% (26/39)   \rUnpacking objects:  69% (27/39)   \rUnpacking objects:  71% (28/39)   \rUnpacking objects:  74% (29/39)   \rUnpacking objects:  76% (30/39)   \rUnpacking objects:  79% (31/39)   \rUnpacking objects:  82% (32/39)   \rUnpacking objects:  84% (33/39)   \rUnpacking objects:  87% (34/39)   \rUnpacking objects:  89% (35/39)   \rUnpacking objects:  92% (36/39)   \rUnpacking objects:  94% (37/39)   \rUnpacking objects:  97% (38/39)   \rUnpacking objects: 100% (39/39)   \rUnpacking objects: 100% (39/39), done.\n"
          ],
          "name": "stdout"
        }
      ]
    },
    {
      "cell_type": "code",
      "metadata": {
        "id": "wpQ0csosQIEE",
        "colab_type": "code",
        "colab": {
          "base_uri": "https://localhost:8080/",
          "height": 34
        },
        "outputId": "51d85c4b-a4e1-4f0e-e2ce-f7281d175a5a"
      },
      "source": [
        "%cd tfObjWebrtc"
      ],
      "execution_count": 10,
      "outputs": [
        {
          "output_type": "stream",
          "text": [
            "/content/tfObjWebrtc\n"
          ],
          "name": "stdout"
        }
      ]
    },
    {
      "cell_type": "code",
      "metadata": {
        "id": "ABOaIH5nQNDc",
        "colab_type": "code",
        "colab": {
          "base_uri": "https://localhost:8080/",
          "height": 1000
        },
        "outputId": "5d36360a-48f2-482d-c44d-d6e9479039c3"
      },
      "source": [
        "!python setup.py install"
      ],
      "execution_count": 11,
      "outputs": [
        {
          "output_type": "stream",
          "text": [
            "running install\n",
            "running bdist_egg\n",
            "running egg_info\n",
            "creating webrtc_object_detection.egg-info\n",
            "writing webrtc_object_detection.egg-info/PKG-INFO\n",
            "writing dependency_links to webrtc_object_detection.egg-info/dependency_links.txt\n",
            "writing requirements to webrtc_object_detection.egg-info/requires.txt\n",
            "writing top-level names to webrtc_object_detection.egg-info/top_level.txt\n",
            "writing manifest file 'webrtc_object_detection.egg-info/SOURCES.txt'\n",
            "writing manifest file 'webrtc_object_detection.egg-info/SOURCES.txt'\n",
            "installing library code to build/bdist.linux-x86_64/egg\n",
            "running install_lib\n",
            "warning: install_lib: 'build/lib' does not exist -- no Python modules to install\n",
            "\n",
            "creating build\n",
            "creating build/bdist.linux-x86_64\n",
            "creating build/bdist.linux-x86_64/egg\n",
            "creating build/bdist.linux-x86_64/egg/EGG-INFO\n",
            "copying webrtc_object_detection.egg-info/PKG-INFO -> build/bdist.linux-x86_64/egg/EGG-INFO\n",
            "copying webrtc_object_detection.egg-info/SOURCES.txt -> build/bdist.linux-x86_64/egg/EGG-INFO\n",
            "copying webrtc_object_detection.egg-info/dependency_links.txt -> build/bdist.linux-x86_64/egg/EGG-INFO\n",
            "copying webrtc_object_detection.egg-info/requires.txt -> build/bdist.linux-x86_64/egg/EGG-INFO\n",
            "copying webrtc_object_detection.egg-info/top_level.txt -> build/bdist.linux-x86_64/egg/EGG-INFO\n",
            "zip_safe flag not set; analyzing archive contents...\n",
            "creating dist\n",
            "creating 'dist/webrtc_object_detection-0.1-py3.6.egg' and adding 'build/bdist.linux-x86_64/egg' to it\n",
            "removing 'build/bdist.linux-x86_64/egg' (and everything under it)\n",
            "Processing webrtc_object_detection-0.1-py3.6.egg\n",
            "Copying webrtc_object_detection-0.1-py3.6.egg to /usr/local/lib/python3.6/dist-packages\n",
            "Adding webrtc-object-detection 0.1 to easy-install.pth file\n",
            "\n",
            "Installed /usr/local/lib/python3.6/dist-packages/webrtc_object_detection-0.1-py3.6.egg\n",
            "Processing dependencies for webrtc-object-detection==0.1\n",
            "Searching for matplotlib==3.0.3\n",
            "Best match: matplotlib 3.0.3\n",
            "Adding matplotlib 3.0.3 to easy-install.pth file\n",
            "\n",
            "Using /usr/local/lib/python3.6/dist-packages\n",
            "Searching for six==1.12.0\n",
            "Best match: six 1.12.0\n",
            "Adding six 1.12.0 to easy-install.pth file\n",
            "\n",
            "Using /usr/local/lib/python3.6/dist-packages\n",
            "Searching for tensorflow==1.14.0\n",
            "Best match: tensorflow 1.14.0\n",
            "Adding tensorflow 1.14.0 to easy-install.pth file\n",
            "Installing freeze_graph script to /usr/local/bin\n",
            "Installing saved_model_cli script to /usr/local/bin\n",
            "Installing tensorboard script to /usr/local/bin\n",
            "Installing tf_upgrade_v2 script to /usr/local/bin\n",
            "Installing tflite_convert script to /usr/local/bin\n",
            "Installing toco script to /usr/local/bin\n",
            "Installing toco_from_protos script to /usr/local/bin\n",
            "\n",
            "Using /usr/local/lib/python3.6/dist-packages\n",
            "Searching for Flask==1.1.1\n",
            "Best match: Flask 1.1.1\n",
            "Adding Flask 1.1.1 to easy-install.pth file\n",
            "Installing flask script to /usr/local/bin\n",
            "\n",
            "Using /usr/local/lib/python3.6/dist-packages\n",
            "Searching for Pillow==4.3.0\n",
            "Best match: Pillow 4.3.0\n",
            "Adding Pillow 4.3.0 to easy-install.pth file\n",
            "\n",
            "Using /usr/local/lib/python3.6/dist-packages\n",
            "Searching for kiwisolver==1.1.0\n",
            "Best match: kiwisolver 1.1.0\n",
            "Adding kiwisolver 1.1.0 to easy-install.pth file\n",
            "\n",
            "Using /usr/local/lib/python3.6/dist-packages\n",
            "Searching for pyparsing==2.4.2\n",
            "Best match: pyparsing 2.4.2\n",
            "Adding pyparsing 2.4.2 to easy-install.pth file\n",
            "\n",
            "Using /usr/local/lib/python3.6/dist-packages\n",
            "Searching for cycler==0.10.0\n",
            "Best match: cycler 0.10.0\n",
            "Adding cycler 0.10.0 to easy-install.pth file\n",
            "\n",
            "Using /usr/local/lib/python3.6/dist-packages\n",
            "Searching for numpy==1.16.4\n",
            "Best match: numpy 1.16.4\n",
            "Adding numpy 1.16.4 to easy-install.pth file\n",
            "Installing f2py script to /usr/local/bin\n",
            "Installing f2py3 script to /usr/local/bin\n",
            "Installing f2py3.6 script to /usr/local/bin\n",
            "\n",
            "Using /usr/local/lib/python3.6/dist-packages\n",
            "Searching for python-dateutil==2.5.3\n",
            "Best match: python-dateutil 2.5.3\n",
            "Adding python-dateutil 2.5.3 to easy-install.pth file\n",
            "\n",
            "Using /usr/local/lib/python3.6/dist-packages\n",
            "Searching for Keras-Preprocessing==1.1.0\n",
            "Best match: Keras-Preprocessing 1.1.0\n",
            "Adding Keras-Preprocessing 1.1.0 to easy-install.pth file\n",
            "\n",
            "Using /usr/local/lib/python3.6/dist-packages\n",
            "Searching for tensorflow-estimator==1.14.0\n",
            "Best match: tensorflow-estimator 1.14.0\n",
            "Adding tensorflow-estimator 1.14.0 to easy-install.pth file\n",
            "\n",
            "Using /usr/local/lib/python3.6/dist-packages\n",
            "Searching for tensorboard==1.14.0\n",
            "Best match: tensorboard 1.14.0\n",
            "Adding tensorboard 1.14.0 to easy-install.pth file\n",
            "Installing tensorboard script to /usr/local/bin\n",
            "\n",
            "Using /usr/local/lib/python3.6/dist-packages\n",
            "Searching for termcolor==1.1.0\n",
            "Best match: termcolor 1.1.0\n",
            "Adding termcolor 1.1.0 to easy-install.pth file\n",
            "\n",
            "Using /usr/local/lib/python3.6/dist-packages\n",
            "Searching for protobuf==3.7.1\n",
            "Best match: protobuf 3.7.1\n",
            "Adding protobuf 3.7.1 to easy-install.pth file\n",
            "\n",
            "Using /usr/local/lib/python3.6/dist-packages\n",
            "Searching for wrapt==1.11.2\n",
            "Best match: wrapt 1.11.2\n",
            "Adding wrapt 1.11.2 to easy-install.pth file\n",
            "\n",
            "Using /usr/local/lib/python3.6/dist-packages\n",
            "Searching for Keras-Applications==1.0.8\n",
            "Best match: Keras-Applications 1.0.8\n",
            "Adding Keras-Applications 1.0.8 to easy-install.pth file\n",
            "\n",
            "Using /usr/local/lib/python3.6/dist-packages\n",
            "Searching for wheel==0.33.4\n",
            "Best match: wheel 0.33.4\n",
            "Adding wheel 0.33.4 to easy-install.pth file\n",
            "Installing wheel script to /usr/local/bin\n",
            "\n",
            "Using /usr/local/lib/python3.6/dist-packages\n",
            "Searching for google-pasta==0.1.7\n",
            "Best match: google-pasta 0.1.7\n",
            "Adding google-pasta 0.1.7 to easy-install.pth file\n",
            "\n",
            "Using /usr/local/lib/python3.6/dist-packages\n",
            "Searching for absl-py==0.7.1\n",
            "Best match: absl-py 0.7.1\n",
            "Adding absl-py 0.7.1 to easy-install.pth file\n",
            "\n",
            "Using /usr/local/lib/python3.6/dist-packages\n",
            "Searching for gast==0.2.2\n",
            "Best match: gast 0.2.2\n",
            "Adding gast 0.2.2 to easy-install.pth file\n",
            "\n",
            "Using /usr/local/lib/python3.6/dist-packages\n",
            "Searching for astor==0.8.0\n",
            "Best match: astor 0.8.0\n",
            "Adding astor 0.8.0 to easy-install.pth file\n",
            "\n",
            "Using /usr/local/lib/python3.6/dist-packages\n",
            "Searching for grpcio==1.15.0\n",
            "Best match: grpcio 1.15.0\n",
            "Adding grpcio 1.15.0 to easy-install.pth file\n",
            "\n",
            "Using /usr/local/lib/python3.6/dist-packages\n",
            "Searching for itsdangerous==1.1.0\n",
            "Best match: itsdangerous 1.1.0\n",
            "Adding itsdangerous 1.1.0 to easy-install.pth file\n",
            "\n",
            "Using /usr/local/lib/python3.6/dist-packages\n",
            "Searching for Click==7.0\n",
            "Best match: Click 7.0\n",
            "Adding Click 7.0 to easy-install.pth file\n",
            "\n",
            "Using /usr/local/lib/python3.6/dist-packages\n",
            "Searching for Werkzeug==0.15.5\n",
            "Best match: Werkzeug 0.15.5\n",
            "Adding Werkzeug 0.15.5 to easy-install.pth file\n",
            "\n",
            "Using /usr/local/lib/python3.6/dist-packages\n",
            "Searching for Jinja2==2.10.1\n",
            "Best match: Jinja2 2.10.1\n",
            "Adding Jinja2 2.10.1 to easy-install.pth file\n",
            "\n",
            "Using /usr/local/lib/python3.6/dist-packages\n",
            "Searching for olefile==0.46\n",
            "Best match: olefile 0.46\n",
            "Adding olefile 0.46 to easy-install.pth file\n",
            "\n",
            "Using /usr/local/lib/python3.6/dist-packages\n",
            "Searching for setuptools==41.2.0\n",
            "Best match: setuptools 41.2.0\n",
            "Adding setuptools 41.2.0 to easy-install.pth file\n",
            "Installing easy_install script to /usr/local/bin\n",
            "Installing easy_install-3.6 script to /usr/local/bin\n",
            "\n",
            "Using /usr/local/lib/python3.6/dist-packages\n",
            "Searching for Markdown==3.1.1\n",
            "Best match: Markdown 3.1.1\n",
            "Adding Markdown 3.1.1 to easy-install.pth file\n",
            "Installing markdown_py script to /usr/local/bin\n",
            "\n",
            "Using /usr/local/lib/python3.6/dist-packages\n",
            "Searching for h5py==2.8.0\n",
            "Best match: h5py 2.8.0\n",
            "Adding h5py 2.8.0 to easy-install.pth file\n",
            "\n",
            "Using /usr/local/lib/python3.6/dist-packages\n",
            "Searching for MarkupSafe==1.1.1\n",
            "Best match: MarkupSafe 1.1.1\n",
            "Adding MarkupSafe 1.1.1 to easy-install.pth file\n",
            "\n",
            "Using /usr/local/lib/python3.6/dist-packages\n",
            "Finished processing dependencies for webrtc-object-detection==0.1\n",
            "\n",
            "\n",
            "Downloading the TensorFlow API from Github...\n",
            "Copying TensorFlow Object API files to /content/tfObjWebrtc/object_detection/\n",
            "Compiling protobufs\n"
          ],
          "name": "stdout"
        }
      ]
    },
    {
      "cell_type": "code",
      "metadata": {
        "id": "2v7PVdzdQ-1-",
        "colab_type": "code",
        "colab": {}
      },
      "source": [
        "!sed -i.bak -e \"s|tf.__version__ != '1.4.0'|tf.__version__ < '1.13.0'|g;s|\\(  with tf.Session(graph=detection_graph) as sess:\\)|#\\1\\n    sess = tf.Session(graph=detection_graph)|g;s|outputJson = json.dumps(\\[ob.__dict__ for ob in output\\])|outputJson = json.dumps(\\[ob.__dict__ for ob in output\\], cls = MyEncoder)|g\" object_detection_api.py"
      ],
      "execution_count": 0,
      "outputs": []
    },
    {
      "cell_type": "code",
      "metadata": {
        "id": "-8vckapwZo0d",
        "colab_type": "code",
        "colab": {
          "base_uri": "https://localhost:8080/",
          "height": 425
        },
        "outputId": "f4186643-02cf-42e1-8cab-7208897d6d14"
      },
      "source": [
        "%%bash\n",
        "cat <<EOF>> object_detection_api.py\n",
        "class MyEncoder(json.JSONEncoder):\n",
        "    def default(self, obj):\n",
        "        if isinstance(obj, np.integer):\n",
        "            return int(obj)\n",
        "        elif isinstance(obj, np.floating):\n",
        "            return float(obj)\n",
        "        elif isinstance(obj, np.ndarray):\n",
        "            return obj.tolist()\n",
        "        else:\n",
        "            return super(MyEncoder, self).default(obj)\n",
        "EOF\n",
        "diff object_detection_api.py.bak object_detection_api.py"
      ],
      "execution_count": 13,
      "outputs": [
        {
          "output_type": "stream",
          "text": [
            "10c10\n",
            "< if tf.__version__ != '1.4.0':\n",
            "---\n",
            "> if tf.__version__ < '1.13.0':\n",
            "66c66,67\n",
            "<   with tf.Session(graph=detection_graph) as sess:\n",
            "---\n",
            "> #  with tf.Session(graph=detection_graph) as sess:\n",
            ">     sess = tf.Session(graph=detection_graph)\n",
            "126c127\n",
            "<     outputJson = json.dumps([ob.__dict__ for ob in output])\n",
            "---\n",
            ">     outputJson = json.dumps([ob.__dict__ for ob in output], cls = MyEncoder)\n",
            "127a129,138\n",
            "> class MyEncoder(json.JSONEncoder):\n",
            ">     def default(self, obj):\n",
            ">         if isinstance(obj, np.integer):\n",
            ">             return int(obj)\n",
            ">         elif isinstance(obj, np.floating):\n",
            ">             return float(obj)\n",
            ">         elif isinstance(obj, np.ndarray):\n",
            ">             return obj.tolist()\n",
            ">         else:\n",
            ">             return super(MyEncoder, self).default(obj)\n"
          ],
          "name": "stdout"
        }
      ]
    },
    {
      "cell_type": "code",
      "metadata": {
        "id": "x_DzQJLqRU6j",
        "colab_type": "code",
        "colab": {}
      },
      "source": [
        "#!mv object_detection_api.py.bak object_detection_api.py"
      ],
      "execution_count": 0,
      "outputs": []
    },
    {
      "cell_type": "markdown",
      "metadata": {
        "id": "lHfLPT0cR8E3",
        "colab_type": "text"
      },
      "source": [
        "## Install ngrok"
      ]
    },
    {
      "cell_type": "code",
      "metadata": {
        "id": "dKrHLY0jR9Wr",
        "colab_type": "code",
        "colab": {
          "base_uri": "https://localhost:8080/",
          "height": 238
        },
        "outputId": "0b4a4e34-9e32-4bfe-c6e6-5f36227c699b"
      },
      "source": [
        "!wget https://bin.equinox.io/c/4VmDzA7iaHb/ngrok-stable-linux-amd64.zip\n",
        "!unzip ngrok-stable-linux-amd64.zip"
      ],
      "execution_count": 15,
      "outputs": [
        {
          "output_type": "stream",
          "text": [
            "--2019-08-25 16:02:34--  https://bin.equinox.io/c/4VmDzA7iaHb/ngrok-stable-linux-amd64.zip\n",
            "Resolving bin.equinox.io (bin.equinox.io)... 52.86.84.98, 52.202.60.111, 52.22.145.207, ...\n",
            "Connecting to bin.equinox.io (bin.equinox.io)|52.86.84.98|:443... connected.\n",
            "HTTP request sent, awaiting response... 200 OK\n",
            "Length: 13607069 (13M) [application/octet-stream]\n",
            "Saving to: ‘ngrok-stable-linux-amd64.zip’\n",
            "\n",
            "ngrok-stable-linux- 100%[===================>]  12.98M  13.2MB/s    in 1.0s    \n",
            "\n",
            "2019-08-25 16:02:35 (13.2 MB/s) - ‘ngrok-stable-linux-amd64.zip’ saved [13607069/13607069]\n",
            "\n",
            "Archive:  ngrok-stable-linux-amd64.zip\n",
            "  inflating: ngrok                   \n"
          ],
          "name": "stdout"
        }
      ]
    },
    {
      "cell_type": "code",
      "metadata": {
        "id": "FcafpBedSAxz",
        "colab_type": "code",
        "colab": {
          "base_uri": "https://localhost:8080/",
          "height": 34
        },
        "outputId": "85cb3892-2887-4575-ab57-00ff21c27f51"
      },
      "source": [
        "get_ipython().system_raw('./ngrok http 5000 &')\n",
        "! curl -s http://localhost:4040/api/tunnels | python3 -c \\\n",
        "    \"import sys, json; print(json.load(sys.stdin)['tunnels'][0]['public_url'])\""
      ],
      "execution_count": 16,
      "outputs": [
        {
          "output_type": "stream",
          "text": [
            "http://01ff2ab0.ngrok.io\n"
          ],
          "name": "stdout"
        }
      ]
    },
    {
      "cell_type": "markdown",
      "metadata": {
        "id": "n_aenkEHgaYs",
        "colab_type": "text"
      },
      "source": [
        "* https://xxxxxxxx.ngrok.io/local\n",
        "* https://xxxxxxxx.ngrok.io/video\n"
      ]
    },
    {
      "cell_type": "markdown",
      "metadata": {
        "id": "zWmaYWvfSHI8",
        "colab_type": "text"
      },
      "source": [
        "## Serve Flask app and Click ngrok URL\n"
      ]
    },
    {
      "cell_type": "code",
      "metadata": {
        "id": "PfJvromwQdRb",
        "colab_type": "code",
        "colab": {
          "base_uri": "https://localhost:8080/",
          "height": 1000
        },
        "outputId": "164802a9-a2f3-4b40-fc1c-d758a07a4217"
      },
      "source": [
        "!python server.py"
      ],
      "execution_count": 17,
      "outputs": [
        {
          "output_type": "stream",
          "text": [
            "WARNING: Logging before flag parsing goes to stderr.\n",
            "W0825 16:02:46.772095 140696730130304 deprecation_wrapper.py:119] From /content/tfObjWebrtc/object_detection_api.py:47: The name tf.GraphDef is deprecated. Please use tf.compat.v1.GraphDef instead.\n",
            "\n",
            "W0825 16:02:46.772407 140696730130304 deprecation_wrapper.py:119] From /content/tfObjWebrtc/object_detection_api.py:48: The name tf.gfile.GFile is deprecated. Please use tf.io.gfile.GFile instead.\n",
            "\n",
            "W0825 16:02:47.761815 140696730130304 deprecation_wrapper.py:119] From /content/tfObjWebrtc/object_detection_api.py:67: The name tf.Session is deprecated. Please use tf.compat.v1.Session instead.\n",
            "\n",
            "2019-08-25 16:02:47.763204: I tensorflow/stream_executor/platform/default/dso_loader.cc:42] Successfully opened dynamic library libcuda.so.1\n",
            "2019-08-25 16:02:47.781019: I tensorflow/stream_executor/cuda/cuda_gpu_executor.cc:1005] successful NUMA node read from SysFS had negative value (-1), but there must be at least one NUMA node, so returning NUMA node zero\n",
            "2019-08-25 16:02:47.781828: I tensorflow/core/common_runtime/gpu/gpu_device.cc:1640] Found device 0 with properties: \n",
            "name: Tesla K80 major: 3 minor: 7 memoryClockRate(GHz): 0.8235\n",
            "pciBusID: 0000:00:04.0\n",
            "2019-08-25 16:02:47.782138: I tensorflow/stream_executor/platform/default/dso_loader.cc:42] Successfully opened dynamic library libcudart.so.10.0\n",
            "2019-08-25 16:02:47.783334: I tensorflow/stream_executor/platform/default/dso_loader.cc:42] Successfully opened dynamic library libcublas.so.10.0\n",
            "2019-08-25 16:02:47.784626: I tensorflow/stream_executor/platform/default/dso_loader.cc:42] Successfully opened dynamic library libcufft.so.10.0\n",
            "2019-08-25 16:02:47.785092: I tensorflow/stream_executor/platform/default/dso_loader.cc:42] Successfully opened dynamic library libcurand.so.10.0\n",
            "2019-08-25 16:02:47.786718: I tensorflow/stream_executor/platform/default/dso_loader.cc:42] Successfully opened dynamic library libcusolver.so.10.0\n",
            "2019-08-25 16:02:47.787837: I tensorflow/stream_executor/platform/default/dso_loader.cc:42] Successfully opened dynamic library libcusparse.so.10.0\n",
            "2019-08-25 16:02:47.791079: I tensorflow/stream_executor/platform/default/dso_loader.cc:42] Successfully opened dynamic library libcudnn.so.7\n",
            "2019-08-25 16:02:47.791218: I tensorflow/stream_executor/cuda/cuda_gpu_executor.cc:1005] successful NUMA node read from SysFS had negative value (-1), but there must be at least one NUMA node, so returning NUMA node zero\n",
            "2019-08-25 16:02:47.792120: I tensorflow/stream_executor/cuda/cuda_gpu_executor.cc:1005] successful NUMA node read from SysFS had negative value (-1), but there must be at least one NUMA node, so returning NUMA node zero\n",
            "2019-08-25 16:02:47.792811: I tensorflow/core/common_runtime/gpu/gpu_device.cc:1763] Adding visible gpu devices: 0\n",
            "2019-08-25 16:02:47.798094: I tensorflow/core/platform/profile_utils/cpu_utils.cc:94] CPU Frequency: 2300000000 Hz\n",
            "2019-08-25 16:02:47.798347: I tensorflow/compiler/xla/service/service.cc:168] XLA service 0x2f97480 executing computations on platform Host. Devices:\n",
            "2019-08-25 16:02:47.798383: I tensorflow/compiler/xla/service/service.cc:175]   StreamExecutor device (0): <undefined>, <undefined>\n",
            "2019-08-25 16:02:47.851867: I tensorflow/stream_executor/cuda/cuda_gpu_executor.cc:1005] successful NUMA node read from SysFS had negative value (-1), but there must be at least one NUMA node, so returning NUMA node zero\n",
            "2019-08-25 16:02:47.852707: I tensorflow/compiler/xla/service/service.cc:168] XLA service 0x65a4700 executing computations on platform CUDA. Devices:\n",
            "2019-08-25 16:02:47.852741: I tensorflow/compiler/xla/service/service.cc:175]   StreamExecutor device (0): Tesla K80, Compute Capability 3.7\n",
            "2019-08-25 16:02:47.852907: I tensorflow/stream_executor/cuda/cuda_gpu_executor.cc:1005] successful NUMA node read from SysFS had negative value (-1), but there must be at least one NUMA node, so returning NUMA node zero\n",
            "2019-08-25 16:02:47.853615: I tensorflow/core/common_runtime/gpu/gpu_device.cc:1640] Found device 0 with properties: \n",
            "name: Tesla K80 major: 3 minor: 7 memoryClockRate(GHz): 0.8235\n",
            "pciBusID: 0000:00:04.0\n",
            "2019-08-25 16:02:47.853674: I tensorflow/stream_executor/platform/default/dso_loader.cc:42] Successfully opened dynamic library libcudart.so.10.0\n",
            "2019-08-25 16:02:47.853700: I tensorflow/stream_executor/platform/default/dso_loader.cc:42] Successfully opened dynamic library libcublas.so.10.0\n",
            "2019-08-25 16:02:47.853719: I tensorflow/stream_executor/platform/default/dso_loader.cc:42] Successfully opened dynamic library libcufft.so.10.0\n",
            "2019-08-25 16:02:47.853740: I tensorflow/stream_executor/platform/default/dso_loader.cc:42] Successfully opened dynamic library libcurand.so.10.0\n",
            "2019-08-25 16:02:47.853758: I tensorflow/stream_executor/platform/default/dso_loader.cc:42] Successfully opened dynamic library libcusolver.so.10.0\n",
            "2019-08-25 16:02:47.853775: I tensorflow/stream_executor/platform/default/dso_loader.cc:42] Successfully opened dynamic library libcusparse.so.10.0\n",
            "2019-08-25 16:02:47.853795: I tensorflow/stream_executor/platform/default/dso_loader.cc:42] Successfully opened dynamic library libcudnn.so.7\n",
            "2019-08-25 16:02:47.853868: I tensorflow/stream_executor/cuda/cuda_gpu_executor.cc:1005] successful NUMA node read from SysFS had negative value (-1), but there must be at least one NUMA node, so returning NUMA node zero\n",
            "2019-08-25 16:02:47.854602: I tensorflow/stream_executor/cuda/cuda_gpu_executor.cc:1005] successful NUMA node read from SysFS had negative value (-1), but there must be at least one NUMA node, so returning NUMA node zero\n",
            "2019-08-25 16:02:47.855278: I tensorflow/core/common_runtime/gpu/gpu_device.cc:1763] Adding visible gpu devices: 0\n",
            "2019-08-25 16:02:47.855333: I tensorflow/stream_executor/platform/default/dso_loader.cc:42] Successfully opened dynamic library libcudart.so.10.0\n",
            "2019-08-25 16:02:47.856717: I tensorflow/core/common_runtime/gpu/gpu_device.cc:1181] Device interconnect StreamExecutor with strength 1 edge matrix:\n",
            "2019-08-25 16:02:47.856748: I tensorflow/core/common_runtime/gpu/gpu_device.cc:1187]      0 \n",
            "2019-08-25 16:02:47.856760: I tensorflow/core/common_runtime/gpu/gpu_device.cc:1200] 0:   N \n",
            "2019-08-25 16:02:47.856880: I tensorflow/stream_executor/cuda/cuda_gpu_executor.cc:1005] successful NUMA node read from SysFS had negative value (-1), but there must be at least one NUMA node, so returning NUMA node zero\n",
            "2019-08-25 16:02:47.857635: I tensorflow/stream_executor/cuda/cuda_gpu_executor.cc:1005] successful NUMA node read from SysFS had negative value (-1), but there must be at least one NUMA node, so returning NUMA node zero\n",
            "2019-08-25 16:02:47.858555: W tensorflow/core/common_runtime/gpu/gpu_bfc_allocator.cc:40] Overriding allow_growth setting because the TF_FORCE_GPU_ALLOW_GROWTH environment variable is set. Original config value was 0.\n",
            "2019-08-25 16:02:47.858613: I tensorflow/core/common_runtime/gpu/gpu_device.cc:1326] Created TensorFlow device (/job:localhost/replica:0/task:0/device:GPU:0 with 10805 MB memory) -> physical GPU (device: 0, name: Tesla K80, pci bus id: 0000:00:04.0, compute capability: 3.7)\n",
            " * Serving Flask app \"server\" (lazy loading)\n",
            " * Environment: production\n",
            "\u001b[31m   WARNING: This is a development server. Do not use it in a production deployment.\u001b[0m\n",
            "\u001b[2m   Use a production WSGI server instead.\u001b[0m\n",
            " * Debug mode: on\n",
            "I0825 16:02:47.941510 140696730130304 _internal.py:122]  * Running on http://0.0.0.0:5000/ (Press CTRL+C to quit)\n",
            "I0825 16:02:47.942287 140696730130304 _internal.py:122]  * Restarting with stat\n",
            "WARNING: Logging before flag parsing goes to stderr.\n",
            "W0825 16:02:51.333188 140700123801472 deprecation_wrapper.py:119] From /content/tfObjWebrtc/object_detection_api.py:47: The name tf.GraphDef is deprecated. Please use tf.compat.v1.GraphDef instead.\n",
            "\n",
            "W0825 16:02:51.333524 140700123801472 deprecation_wrapper.py:119] From /content/tfObjWebrtc/object_detection_api.py:48: The name tf.gfile.GFile is deprecated. Please use tf.io.gfile.GFile instead.\n",
            "\n",
            "W0825 16:02:52.326006 140700123801472 deprecation_wrapper.py:119] From /content/tfObjWebrtc/object_detection_api.py:67: The name tf.Session is deprecated. Please use tf.compat.v1.Session instead.\n",
            "\n",
            "2019-08-25 16:02:52.327355: I tensorflow/stream_executor/platform/default/dso_loader.cc:42] Successfully opened dynamic library libcuda.so.1\n",
            "2019-08-25 16:02:52.330507: I tensorflow/stream_executor/cuda/cuda_gpu_executor.cc:1005] successful NUMA node read from SysFS had negative value (-1), but there must be at least one NUMA node, so returning NUMA node zero\n",
            "2019-08-25 16:02:52.331235: I tensorflow/core/common_runtime/gpu/gpu_device.cc:1640] Found device 0 with properties: \n",
            "name: Tesla K80 major: 3 minor: 7 memoryClockRate(GHz): 0.8235\n",
            "pciBusID: 0000:00:04.0\n",
            "2019-08-25 16:02:52.331450: I tensorflow/stream_executor/platform/default/dso_loader.cc:42] Successfully opened dynamic library libcudart.so.10.0\n",
            "2019-08-25 16:02:52.332623: I tensorflow/stream_executor/platform/default/dso_loader.cc:42] Successfully opened dynamic library libcublas.so.10.0\n",
            "2019-08-25 16:02:52.333686: I tensorflow/stream_executor/platform/default/dso_loader.cc:42] Successfully opened dynamic library libcufft.so.10.0\n",
            "2019-08-25 16:02:52.333983: I tensorflow/stream_executor/platform/default/dso_loader.cc:42] Successfully opened dynamic library libcurand.so.10.0\n",
            "2019-08-25 16:02:52.335393: I tensorflow/stream_executor/platform/default/dso_loader.cc:42] Successfully opened dynamic library libcusolver.so.10.0\n",
            "2019-08-25 16:02:52.336397: I tensorflow/stream_executor/platform/default/dso_loader.cc:42] Successfully opened dynamic library libcusparse.so.10.0\n",
            "2019-08-25 16:02:52.339371: I tensorflow/stream_executor/platform/default/dso_loader.cc:42] Successfully opened dynamic library libcudnn.so.7\n",
            "2019-08-25 16:02:52.339479: I tensorflow/stream_executor/cuda/cuda_gpu_executor.cc:1005] successful NUMA node read from SysFS had negative value (-1), but there must be at least one NUMA node, so returning NUMA node zero\n",
            "2019-08-25 16:02:52.340226: I tensorflow/stream_executor/cuda/cuda_gpu_executor.cc:1005] successful NUMA node read from SysFS had negative value (-1), but there must be at least one NUMA node, so returning NUMA node zero\n",
            "2019-08-25 16:02:52.340969: I tensorflow/core/common_runtime/gpu/gpu_device.cc:1763] Adding visible gpu devices: 0\n",
            "2019-08-25 16:02:52.346258: I tensorflow/core/platform/profile_utils/cpu_utils.cc:94] CPU Frequency: 2300000000 Hz\n",
            "2019-08-25 16:02:52.346497: I tensorflow/compiler/xla/service/service.cc:168] XLA service 0x2773480 executing computations on platform Host. Devices:\n",
            "2019-08-25 16:02:52.346548: I tensorflow/compiler/xla/service/service.cc:175]   StreamExecutor device (0): <undefined>, <undefined>\n",
            "2019-08-25 16:02:52.389920: I tensorflow/stream_executor/cuda/cuda_gpu_executor.cc:1005] successful NUMA node read from SysFS had negative value (-1), but there must be at least one NUMA node, so returning NUMA node zero\n",
            "2019-08-25 16:02:52.390763: I tensorflow/compiler/xla/service/service.cc:168] XLA service 0x5de8700 executing computations on platform CUDA. Devices:\n",
            "2019-08-25 16:02:52.390795: I tensorflow/compiler/xla/service/service.cc:175]   StreamExecutor device (0): Tesla K80, Compute Capability 3.7\n",
            "2019-08-25 16:02:52.390950: I tensorflow/stream_executor/cuda/cuda_gpu_executor.cc:1005] successful NUMA node read from SysFS had negative value (-1), but there must be at least one NUMA node, so returning NUMA node zero\n",
            "2019-08-25 16:02:52.391622: I tensorflow/core/common_runtime/gpu/gpu_device.cc:1640] Found device 0 with properties: \n",
            "name: Tesla K80 major: 3 minor: 7 memoryClockRate(GHz): 0.8235\n",
            "pciBusID: 0000:00:04.0\n",
            "2019-08-25 16:02:52.391674: I tensorflow/stream_executor/platform/default/dso_loader.cc:42] Successfully opened dynamic library libcudart.so.10.0\n",
            "2019-08-25 16:02:52.391700: I tensorflow/stream_executor/platform/default/dso_loader.cc:42] Successfully opened dynamic library libcublas.so.10.0\n",
            "2019-08-25 16:02:52.391719: I tensorflow/stream_executor/platform/default/dso_loader.cc:42] Successfully opened dynamic library libcufft.so.10.0\n",
            "2019-08-25 16:02:52.391740: I tensorflow/stream_executor/platform/default/dso_loader.cc:42] Successfully opened dynamic library libcurand.so.10.0\n",
            "2019-08-25 16:02:52.391760: I tensorflow/stream_executor/platform/default/dso_loader.cc:42] Successfully opened dynamic library libcusolver.so.10.0\n",
            "2019-08-25 16:02:52.391778: I tensorflow/stream_executor/platform/default/dso_loader.cc:42] Successfully opened dynamic library libcusparse.so.10.0\n",
            "2019-08-25 16:02:52.391797: I tensorflow/stream_executor/platform/default/dso_loader.cc:42] Successfully opened dynamic library libcudnn.so.7\n",
            "2019-08-25 16:02:52.391866: I tensorflow/stream_executor/cuda/cuda_gpu_executor.cc:1005] successful NUMA node read from SysFS had negative value (-1), but there must be at least one NUMA node, so returning NUMA node zero\n",
            "2019-08-25 16:02:52.392668: I tensorflow/stream_executor/cuda/cuda_gpu_executor.cc:1005] successful NUMA node read from SysFS had negative value (-1), but there must be at least one NUMA node, so returning NUMA node zero\n",
            "2019-08-25 16:02:52.393337: I tensorflow/core/common_runtime/gpu/gpu_device.cc:1763] Adding visible gpu devices: 0\n",
            "2019-08-25 16:02:52.393406: I tensorflow/stream_executor/platform/default/dso_loader.cc:42] Successfully opened dynamic library libcudart.so.10.0\n",
            "2019-08-25 16:02:52.394621: I tensorflow/core/common_runtime/gpu/gpu_device.cc:1181] Device interconnect StreamExecutor with strength 1 edge matrix:\n",
            "2019-08-25 16:02:52.394650: I tensorflow/core/common_runtime/gpu/gpu_device.cc:1187]      0 \n",
            "2019-08-25 16:02:52.394680: I tensorflow/core/common_runtime/gpu/gpu_device.cc:1200] 0:   N \n",
            "2019-08-25 16:02:52.394858: I tensorflow/stream_executor/cuda/cuda_gpu_executor.cc:1005] successful NUMA node read from SysFS had negative value (-1), but there must be at least one NUMA node, so returning NUMA node zero\n",
            "2019-08-25 16:02:52.395674: I tensorflow/stream_executor/cuda/cuda_gpu_executor.cc:1005] successful NUMA node read from SysFS had negative value (-1), but there must be at least one NUMA node, so returning NUMA node zero\n",
            "2019-08-25 16:02:52.396422: W tensorflow/core/common_runtime/gpu/gpu_bfc_allocator.cc:40] Overriding allow_growth setting because the TF_FORCE_GPU_ALLOW_GROWTH environment variable is set. Original config value was 0.\n",
            "2019-08-25 16:02:52.396468: I tensorflow/core/common_runtime/gpu/gpu_device.cc:1326] Created TensorFlow device (/job:localhost/replica:0/task:0/device:GPU:0 with 10748 MB memory) -> physical GPU (device: 0, name: Tesla K80, pci bus id: 0000:00:04.0, compute capability: 3.7)\n",
            "W0825 16:02:52.482321 140700123801472 _internal.py:122]  * Debugger is active!\n",
            "I0825 16:02:52.482978 140700123801472 _internal.py:122]  * Debugger PIN: 822-863-906\n",
            "I0825 16:02:53.810219 140697813694208 _internal.py:122] 127.0.0.1 - - [25/Aug/2019 16:02:53] \"\u001b[37mGET / HTTP/1.1\u001b[0m\" 200 -\n",
            "I0825 16:02:54.943217 140697813694208 _internal.py:122] 127.0.0.1 - - [25/Aug/2019 16:02:54] \"\u001b[33mGET /favicon.ico HTTP/1.1\u001b[0m\" 404 -\n",
            "I0825 16:03:00.690663 140697813694208 _internal.py:122] 127.0.0.1 - - [25/Aug/2019 16:03:00] \"\u001b[37mGET /local HTTP/1.1\u001b[0m\" 200 -\n",
            "I0825 16:03:00.970633 140697813694208 _internal.py:122] 127.0.0.1 - - [25/Aug/2019 16:03:00] \"\u001b[37mGET /static/local.js HTTP/1.1\u001b[0m\" 200 -\n",
            "I0825 16:03:01.061718 140697813694208 _internal.py:122] 127.0.0.1 - - [25/Aug/2019 16:03:01] \"\u001b[37mGET /static/objDetect.js HTTP/1.1\u001b[0m\" 200 -\n",
            "I0825 16:03:10.286999 140697813694208 _internal.py:122] 127.0.0.1 - - [25/Aug/2019 16:03:10] \"\u001b[37mGET /local HTTP/1.1\u001b[0m\" 200 -\n",
            "I0825 16:03:23.328790 140697813694208 _internal.py:122] 127.0.0.1 - - [25/Aug/2019 16:03:23] \"\u001b[37mGET /local HTTP/1.1\u001b[0m\" 200 -\n",
            "I0825 16:03:44.107012 140697813694208 _internal.py:122] 127.0.0.1 - - [25/Aug/2019 16:03:44] \"\u001b[37mGET /local HTTP/1.1\u001b[0m\" 200 -\n",
            "I0825 16:03:50.404283 140697813694208 _internal.py:122] 127.0.0.1 - - [25/Aug/2019 16:03:50] \"\u001b[37mGET / HTTP/1.1\u001b[0m\" 200 -\n",
            "I0825 16:03:55.745461 140697813694208 _internal.py:122] 127.0.0.1 - - [25/Aug/2019 16:03:55] \"\u001b[37mGET /local HTTP/1.1\u001b[0m\" 200 -\n",
            "I0825 16:04:14.326771 140697813694208 _internal.py:122] 127.0.0.1 - - [25/Aug/2019 16:04:14] \"\u001b[37mGET /video HTTP/1.1\u001b[0m\" 200 -\n",
            "2019-08-25 16:04:21.336220: I tensorflow/stream_executor/platform/default/dso_loader.cc:42] Successfully opened dynamic library libcudnn.so.7\n",
            "detected 3 objects in image above a 0.4 score\n",
            " object cup - score: 0.45525143, coordinates: [0.00555252 0.7238494  0.4091329  0.99918413]\n",
            " object cat - score: 0.42446685, coordinates: [0.20224181 0.42285037 0.5330944  0.7191043 ]\n",
            " object couch - score: 0.40690216, coordinates: [0.04971334 0.1626716  0.9761307  0.9774765 ]\n",
            "I0825 16:04:22.746256 140697813694208 _internal.py:122] 127.0.0.1 - - [25/Aug/2019 16:04:22] \"\u001b[37mPOST /image HTTP/1.1\u001b[0m\" 200 -\n",
            "detected 2 objects in image above a 0.4 score\n",
            " object couch - score: 0.5197162, coordinates: [0.02671602 0.14754632 0.9699285  0.98426473]\n",
            " object dog - score: 0.43493664, coordinates: [0.26862907 0.43221343 0.5433404  0.7026316 ]\n",
            "I0825 16:04:23.678599 140697813694208 _internal.py:122] 127.0.0.1 - - [25/Aug/2019 16:04:23] \"\u001b[37mPOST /image HTTP/1.1\u001b[0m\" 200 -\n",
            "detected 2 objects in image above a 0.4 score\n",
            " object couch - score: 0.4955953, coordinates: [0.03357339 0.12524337 0.9669703  0.9815398 ]\n",
            " object dog - score: 0.46854597, coordinates: [0.2708745  0.43274802 0.5449705  0.7050136 ]\n",
            "I0825 16:04:24.497260 140697813694208 _internal.py:122] 127.0.0.1 - - [25/Aug/2019 16:04:24] \"\u001b[37mPOST /image HTTP/1.1\u001b[0m\" 200 -\n",
            "detected 1 objects in image above a 0.4 score\n",
            " object couch - score: 0.5039483, coordinates: [0.03064471 0.11779571 0.9685011  0.98025227]\n",
            "I0825 16:04:25.323581 140697813694208 _internal.py:122] 127.0.0.1 - - [25/Aug/2019 16:04:25] \"\u001b[37mPOST /image HTTP/1.1\u001b[0m\" 200 -\n",
            "detected 1 objects in image above a 0.4 score\n",
            " object couch - score: 0.4361805, coordinates: [0.03329137 0.17436701 0.97695756 0.98082536]\n",
            "I0825 16:04:26.136247 140697813694208 _internal.py:122] 127.0.0.1 - - [25/Aug/2019 16:04:26] \"\u001b[37mPOST /image HTTP/1.1\u001b[0m\" 200 -\n",
            "detected 2 objects in image above a 0.4 score\n",
            " object couch - score: 0.564763, coordinates: [0.02622971 0.14112145 0.9702672  0.9822367 ]\n",
            " object dog - score: 0.41864604, coordinates: [0.27136207 0.43673027 0.54305434 0.7094642 ]\n",
            "I0825 16:04:26.955106 140697813694208 _internal.py:122] 127.0.0.1 - - [25/Aug/2019 16:04:26] \"\u001b[37mPOST /image HTTP/1.1\u001b[0m\" 200 -\n",
            "detected 1 objects in image above a 0.4 score\n",
            " object couch - score: 0.51012367, coordinates: [0.03345674 0.12351424 0.975558   0.9783469 ]\n",
            "I0825 16:04:27.694786 140697813694208 _internal.py:122] 127.0.0.1 - - [25/Aug/2019 16:04:27] \"\u001b[37mPOST /image HTTP/1.1\u001b[0m\" 200 -\n",
            "detected 2 objects in image above a 0.4 score\n",
            " object dog - score: 0.5646613, coordinates: [0.26313037 0.43735197 0.5491671  0.7196876 ]\n",
            " object couch - score: 0.5208002, coordinates: [0.01513028 0.20863602 0.97351426 0.98311126]\n",
            "I0825 16:04:28.496499 140697813694208 _internal.py:122] 127.0.0.1 - - [25/Aug/2019 16:04:28] \"\u001b[37mPOST /image HTTP/1.1\u001b[0m\" 200 -\n",
            "detected 2 objects in image above a 0.4 score\n",
            " object dog - score: 0.46845692, coordinates: [0.26437882 0.43965748 0.53906345 0.70319355]\n",
            " object couch - score: 0.44524223, coordinates: [0.01755014 0.1150535  0.9651412  0.98127496]\n",
            "I0825 16:04:29.319565 140697813694208 _internal.py:122] 127.0.0.1 - - [25/Aug/2019 16:04:29] \"\u001b[37mPOST /image HTTP/1.1\u001b[0m\" 200 -\n",
            "detected 0 objects in image above a 0.4 score\n",
            "I0825 16:04:30.120655 140697813694208 _internal.py:122] 127.0.0.1 - - [25/Aug/2019 16:04:30] \"\u001b[37mPOST /image HTTP/1.1\u001b[0m\" 200 -\n",
            "detected 2 objects in image above a 0.4 score\n",
            " object dog - score: 0.73106575, coordinates: [0.22962661 0.44242832 0.5117977  0.70015144]\n",
            " object couch - score: 0.4771494, coordinates: [0.01386863 0.21245715 0.97431874 0.98113203]\n",
            "I0825 16:04:30.856446 140697813694208 _internal.py:122] 127.0.0.1 - - [25/Aug/2019 16:04:30] \"\u001b[37mPOST /image HTTP/1.1\u001b[0m\" 200 -\n",
            "detected 2 objects in image above a 0.4 score\n",
            " object dog - score: 0.6368287, coordinates: [0.20147449 0.45698538 0.5158619  0.692848  ]\n",
            " object couch - score: 0.5103845, coordinates: [0.01360431 0.2518057  0.9739411  0.9831928 ]\n",
            "I0825 16:04:31.610441 140697813694208 _internal.py:122] 127.0.0.1 - - [25/Aug/2019 16:04:31] \"\u001b[37mPOST /image HTTP/1.1\u001b[0m\" 200 -\n",
            "detected 1 objects in image above a 0.4 score\n",
            " object dog - score: 0.8570061, coordinates: [0.17800206 0.45376268 0.4917025  0.69553316]\n",
            "I0825 16:04:32.335596 140697813694208 _internal.py:122] 127.0.0.1 - - [25/Aug/2019 16:04:32] \"\u001b[37mPOST /image HTTP/1.1\u001b[0m\" 200 -\n",
            "detected 2 objects in image above a 0.4 score\n",
            " object dog - score: 0.84882176, coordinates: [0.17481585 0.45990533 0.49193418 0.6931469 ]\n",
            " object cup - score: 0.46268004, coordinates: [0.00440276 0.7033909  0.37278044 0.9984531 ]\n",
            "I0825 16:04:33.053992 140697813694208 _internal.py:122] 127.0.0.1 - - [25/Aug/2019 16:04:33] \"\u001b[37mPOST /image HTTP/1.1\u001b[0m\" 200 -\n",
            "detected 2 objects in image above a 0.4 score\n",
            " object dog - score: 0.86835104, coordinates: [0.17040445 0.45669842 0.49299544 0.7000978 ]\n",
            " object cup - score: 0.45563507, coordinates: [0.0099255  0.70205176 0.3689773  0.99632955]\n",
            "I0825 16:04:33.802447 140697813694208 _internal.py:122] 127.0.0.1 - - [25/Aug/2019 16:04:33] \"\u001b[37mPOST /image HTTP/1.1\u001b[0m\" 200 -\n",
            "I0825 16:04:34.383721 140697804515072 _internal.py:122] 127.0.0.1 - - [25/Aug/2019 16:04:34] \"\u001b[37mGET /local HTTP/1.1\u001b[0m\" 200 -\n",
            "detected 2 objects in image above a 0.4 score\n",
            " object dog - score: 0.8791709, coordinates: [0.18222831 0.45578974 0.48607695 0.70091623]\n",
            " object cup - score: 0.42639357, coordinates: [0.0089647  0.703757   0.36870676 0.9983162 ]\n",
            "I0825 16:04:34.523731 140697813694208 _internal.py:122] 127.0.0.1 - - [25/Aug/2019 16:04:34] \"\u001b[37mPOST /image HTTP/1.1\u001b[0m\" 200 -\n",
            "I0825 16:05:12.067841 140697813694208 _internal.py:122] 127.0.0.1 - - [25/Aug/2019 16:05:12] \"\u001b[37mGET / HTTP/1.1\u001b[0m\" 200 -\n",
            "I0825 16:05:18.285509 140697813694208 _internal.py:122] 127.0.0.1 - - [25/Aug/2019 16:05:18] \"\u001b[37mGET /local HTTP/1.1\u001b[0m\" 200 -\n",
            "I0825 16:05:18.555198 140697813694208 _internal.py:122] 127.0.0.1 - - [25/Aug/2019 16:05:18] \"\u001b[37mGET /static/local.js HTTP/1.1\u001b[0m\" 200 -\n",
            "I0825 16:05:18.737399 140697813694208 _internal.py:122] 127.0.0.1 - - [25/Aug/2019 16:05:18] \"\u001b[37mGET /static/objDetect.js HTTP/1.1\u001b[0m\" 200 -\n",
            "I0825 16:05:26.721614 140697813694208 _internal.py:122] 127.0.0.1 - - [25/Aug/2019 16:05:26] \"\u001b[37mGET /local HTTP/1.1\u001b[0m\" 200 -\n"
          ],
          "name": "stdout"
        }
      ]
    }
  ]
}